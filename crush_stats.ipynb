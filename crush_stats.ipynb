{
 "cells": [
  {
   "cell_type": "markdown",
   "metadata": {},
   "source": [
    "# Crush Rig Serosal Thickness T-Test Statistics\n",
    "\n",
    "Written by Matt MacDonald for CIGITI at the Hospital for Sick Children Toronto"
   ]
  },
  {
   "cell_type": "markdown",
   "metadata": {},
   "source": [
    "Serosal thickness measurements are taken from the histology data after the crushing of the tissue. Control measurements are from a non-crush location and crush measurements are at the location of the crush marked by blue ink. \n",
    "\n",
    "To determine descriptive statistics these measurements must be grouped and tested for statistically significant differences in mean or variation. The control and crush measurements are in seperate columns in the csv file; although they are paired this is just how the data was organized and doesn't have any relevance to the analysis."
   ]
  },
  {
   "cell_type": "code",
   "execution_count": null,
   "metadata": {},
   "outputs": [],
   "source": [
    "%matplotlib inline\n",
    "import matplotlib.pyplot as plt\n",
    "\n",
    "plt.style.use('ggplot')\n",
    "plt.rcParams['figure.dpi'] = 150"
   ]
  },
  {
   "cell_type": "code",
   "execution_count": null,
   "metadata": {},
   "outputs": [],
   "source": [
    "from crush_read import *\n",
    "from crush_plot import *\n",
    "PATH"
   ]
  },
  {
   "cell_type": "code",
   "execution_count": null,
   "metadata": {},
   "outputs": [],
   "source": [
    "ls $PATH"
   ]
  },
  {
   "cell_type": "code",
   "execution_count": null,
   "metadata": {},
   "outputs": [],
   "source": [
    "df = pd.read_csv(PATH / 'SEROSA.csv', na_values=['M'])  # missing values = M\n",
    "df.shape"
   ]
  },
  {
   "cell_type": "code",
   "execution_count": null,
   "metadata": {},
   "outputs": [],
   "source": [
    "df.isna().sum()"
   ]
  },
  {
   "cell_type": "code",
   "execution_count": null,
   "metadata": {},
   "outputs": [],
   "source": [
    "df = df.dropna()\n",
    "df.shape"
   ]
  },
  {
   "cell_type": "code",
   "execution_count": null,
   "metadata": {},
   "outputs": [],
   "source": [
    "df.dtypes"
   ]
  },
  {
   "cell_type": "code",
   "execution_count": null,
   "metadata": {},
   "outputs": [],
   "source": [
    "df.head()"
   ]
  },
  {
   "cell_type": "code",
   "execution_count": null,
   "metadata": {},
   "outputs": [],
   "source": [
    "crush = df.iloc[:, :4].copy()\n",
    "crush.columns = ['patient', 'tissue', 'load', 'thickness']\n",
    "crush['crush'] = True\n",
    "crush.head()"
   ]
  },
  {
   "cell_type": "code",
   "execution_count": null,
   "metadata": {},
   "outputs": [],
   "source": [
    "control = df.iloc[:, [0, 1, 2, 4]].copy()\n",
    "control.columns = ['patient', 'tissue', 'load', 'thickness']\n",
    "control['crush'] = False\n",
    "control.head()"
   ]
  },
  {
   "cell_type": "code",
   "execution_count": null,
   "metadata": {},
   "outputs": [],
   "source": [
    "data = pd.concat([crush, control])\n",
    "data = data.reset_index(drop=True)\n",
    "data.head()"
   ]
  },
  {
   "cell_type": "code",
   "execution_count": null,
   "metadata": {},
   "outputs": [],
   "source": [
    "data.tail()"
   ]
  },
  {
   "cell_type": "markdown",
   "metadata": {},
   "source": [
    "# Statistical Groups\n",
    "Create the groups that the t-tests will compare."
   ]
  },
  {
   "cell_type": "markdown",
   "metadata": {},
   "source": [
    "### 1. No grouping"
   ]
  },
  {
   "cell_type": "code",
   "execution_count": null,
   "metadata": {},
   "outputs": [],
   "source": [
    "cont = data[data.crush == False][['thickness']]\n",
    "crush = data[data.crush == True][['thickness']]\n",
    "stats = pd.concat([cont.describe(), crush.describe()], axis=1)\n",
    "stats.columns = ['control', 'crush']\n",
    "stats"
   ]
  },
  {
   "cell_type": "code",
   "execution_count": null,
   "metadata": {},
   "outputs": [],
   "source": [
    "stats.loc[['mean', 'std'], :].plot(kind='bar')\n",
    "plt.title('Serosal thickness overall');"
   ]
  },
  {
   "cell_type": "markdown",
   "metadata": {},
   "source": [
    "### 2. Group by patient"
   ]
  },
  {
   "cell_type": "code",
   "execution_count": null,
   "metadata": {},
   "outputs": [],
   "source": [
    "pat_cont = data[data.crush == False][['patient','thickness']].groupby('patient').describe().rename(columns={'thickness': 'control'})\n",
    "pat_crush = data[data.crush == True][['patient','thickness']].groupby('patient').describe().rename(columns={'thickness': 'crush'})\n",
    "stats = pd.concat([pat_cont, pat_crush], axis=1, levels=['control', 'crush'])\n",
    "stats"
   ]
  },
  {
   "cell_type": "code",
   "execution_count": null,
   "metadata": {},
   "outputs": [],
   "source": [
    "stats.loc[:, (['control', 'crush'], ['mean', 'std'])].plot(kind='bar')\n",
    "plt.title('Serosal thickness by patient');"
   ]
  },
  {
   "cell_type": "markdown",
   "metadata": {},
   "source": [
    "The patients that show a lot of variation in the serosal thickness show it for control and crush groups. This indicates a consistent variation between patients but it is felt this has more to due with the histology preparation than a true anatomical difference between patients."
   ]
  },
  {
   "cell_type": "code",
   "execution_count": null,
   "metadata": {},
   "outputs": [],
   "source": [
    "def ratio(v):\n",
    "    r = v.max() / v.min()\n",
    "    return round(float(r), 1), r < 2 \n",
    "\n",
    "for i in stats.index:\n",
    "    print(ratio(stats.loc[i, (['control', 'crush'], ['std'])].values))"
   ]
  },
  {
   "cell_type": "markdown",
   "metadata": {},
   "source": [
    "Most of the individual patient groups show a ratio of standard deviation between control and crush measurements less than two. It is reasonable to assume that the variances are equal for conducting t-tests."
   ]
  },
  {
   "cell_type": "markdown",
   "metadata": {},
   "source": [
    "### 3. Group by load level"
   ]
  },
  {
   "cell_type": "code",
   "execution_count": null,
   "metadata": {},
   "outputs": [],
   "source": [
    "load_cont = data[(data.crush == False)][['load','thickness']].groupby('load').describe().rename(columns={'thickness': 'control'})\n",
    "load_crush = data[(data.crush == True)][['load','thickness']].groupby('load').describe().rename(columns={'thickness': 'crush'})\n",
    "stats = pd.concat([load_cont, load_crush], axis=1, levels=['control', 'crush'])\n",
    "stats"
   ]
  },
  {
   "cell_type": "code",
   "execution_count": null,
   "metadata": {},
   "outputs": [],
   "source": [
    "stats.loc[:, (['control', 'crush'], ['mean', 'std'])].plot(kind='bar')\n",
    "plt.title('Serosal thickness by load level');"
   ]
  },
  {
   "cell_type": "code",
   "execution_count": null,
   "metadata": {},
   "outputs": [],
   "source": [
    "for i in stats.index:\n",
    "    print(ratio(stats.loc[i, (['control', 'crush'], ['std'])].values))"
   ]
  },
  {
   "cell_type": "markdown",
   "metadata": {},
   "source": [
    "When grouping by load level and ignoring which patient the measurements come from the trend is still very clear. Note however that the standard deviation is much higher becasue of patient to patient variation. The equal variances assumption is very valid when looked at with this grouping."
   ]
  },
  {
   "cell_type": "markdown",
   "metadata": {},
   "source": [
    "### 4. Group by patient and load level"
   ]
  },
  {
   "cell_type": "code",
   "execution_count": null,
   "metadata": {},
   "outputs": [],
   "source": [
    "pat_load_cont = data[(data.crush == False)][['patient', 'load', 'thickness']].groupby(['patient', 'load']).describe().rename(columns={'thickness': 'control'})\n",
    "pat_load_crush = data[(data.crush == True)][['patient', 'load', 'thickness']].groupby(['patient', 'load']).describe().rename(columns={'thickness': 'crush'})\n",
    "stats = pd.concat([pat_load_cont, pat_load_crush], axis=1, levels=['control', 'crush'])\n",
    "stats"
   ]
  },
  {
   "cell_type": "markdown",
   "metadata": {},
   "source": [
    "With this many groups it is not possible to plot in a cohesive way. Let's look at specific patients and load levels."
   ]
  },
  {
   "cell_type": "code",
   "execution_count": null,
   "metadata": {},
   "outputs": [],
   "source": [
    "p = np.random.choice(stats.index.levels[0])\n",
    "stats.loc[(p), (['control', 'crush'], ['mean', 'std'])].plot(kind='bar')\n",
    "plt.title(f'Serosal thickness by load level for patient {p}');"
   ]
  },
  {
   "cell_type": "code",
   "execution_count": null,
   "metadata": {},
   "outputs": [],
   "source": [
    "load_level = 200\n",
    "stats.xs(load_level, level=1).loc[:, (['control', 'crush'], ['mean', 'std'])].plot(kind='bar')\n",
    "plt.title(f'Serosal thickness by patient at {load_level}g');"
   ]
  },
  {
   "cell_type": "code",
   "execution_count": null,
   "metadata": {},
   "outputs": [],
   "source": [
    "load_level = 1200\n",
    "stats.xs(load_level, level=1).loc[:, (['control', 'crush'], ['mean', 'std'])].plot(kind='bar')\n",
    "plt.title(f'Serosal thickness by patient at {load_level}g');"
   ]
  },
  {
   "cell_type": "code",
   "execution_count": null,
   "metadata": {},
   "outputs": [],
   "source": [
    "ratios = []\n",
    "for i in stats.index:\n",
    "    ratios.append(ratio(stats.loc[i, (['control', 'crush'], ['std'])].values))\n",
    "ratios = np.array(ratios)\n",
    "print(f\"{100 * ratios.sum(axis=0)[1] / ratios.shape[0]}% of variance ratios are < 2 for the {ratios.shape[0]} groups\")"
   ]
  },
  {
   "cell_type": "markdown",
   "metadata": {},
   "source": [
    "When grouping by both patient and load level the trend is still very clear that the mean thickness is dependent on load level. Overall standard deviations are much lower because we are not comparing over different patients. However, the equal variances assumption isnot valid for a quarter of the sets when looked at with this grouping. Thus it would be advisable to not make an equal variance assumption."
   ]
  },
  {
   "cell_type": "markdown",
   "metadata": {},
   "source": [
    "### 5. Group by tissue type"
   ]
  },
  {
   "cell_type": "code",
   "execution_count": null,
   "metadata": {},
   "outputs": [],
   "source": [
    "tiss_cont = data[(data.crush == False)][['tissue','thickness']].groupby('tissue').describe().rename(columns={'thickness': 'control'})\n",
    "tiss_crush = data[(data.crush == True)][['tissue','thickness']].groupby('tissue').describe().rename(columns={'thickness': 'crush'})\n",
    "stats = pd.concat([tiss_cont, tiss_crush], axis=1, levels=['control', 'crush'])\n",
    "stats"
   ]
  },
  {
   "cell_type": "code",
   "execution_count": null,
   "metadata": {},
   "outputs": [],
   "source": [
    "stats.loc[:, (['control', 'crush'], ['mean', 'std'])].plot(kind='bar')\n",
    "plt.title('Serosal thickness by tissue type');"
   ]
  },
  {
   "cell_type": "code",
   "execution_count": null,
   "metadata": {},
   "outputs": [],
   "source": [
    "for i in stats.index:\n",
    "    print(ratio(stats.loc[i, (['control', 'crush'], ['std'])].values))"
   ]
  },
  {
   "cell_type": "markdown",
   "metadata": {},
   "source": [
    "When grouping by tissue type and ignoring load level or patient the trend is still very clear of serosal thinning post crush. Nonetheless this comparison is not particularly useful except to show that small bowel serosal layer tends to be twice as thick as for the colon.\n",
    "\n",
    "Note that grouping by patient and tissue is the same as grouping by patient since only one tissue type was measured for each patient, so it is excluded."
   ]
  },
  {
   "cell_type": "markdown",
   "metadata": {},
   "source": [
    "### 6. Group by tissue type and load level"
   ]
  },
  {
   "cell_type": "code",
   "execution_count": null,
   "metadata": {},
   "outputs": [],
   "source": [
    "tiss_load_cont = data[(data.crush == False)][['tissue', 'load', 'thickness']].groupby(['tissue', 'load']).describe().rename(columns={'thickness': 'control'})\n",
    "tiss_load_crush = data[(data.crush == True)][['tissue', 'load', 'thickness']].groupby(['tissue', 'load']).describe().rename(columns={'thickness': 'crush'})\n",
    "stats = pd.concat([tiss_load_cont, tiss_load_crush], axis=1, levels=['control', 'crush'])\n",
    "stats"
   ]
  },
  {
   "cell_type": "code",
   "execution_count": null,
   "metadata": {},
   "outputs": [],
   "source": [
    "stats.loc[:, (['control', 'crush'], ['mean', 'std'])].plot(kind='bar')\n",
    "plt.title('Serosal thickness by tissue type and load level');"
   ]
  },
  {
   "cell_type": "code",
   "execution_count": null,
   "metadata": {},
   "outputs": [],
   "source": [
    "ratios = []\n",
    "for i in stats.index:\n",
    "    ratios.append(ratio(stats.loc[i, (['control', 'crush'], ['std'])].values))\n",
    "ratios = np.array(ratios)\n",
    "print(f\"{100 * ratios.sum(axis=0)[1] / ratios.shape[0]:.2f}% of variance ratios are < 2 for the {ratios.shape[0]} groups\")"
   ]
  },
  {
   "cell_type": "markdown",
   "metadata": {},
   "source": [
    "When grouping by both tissue type and load level the trend is still very clear that the mean thickness is dependent on load level. The transition to significant differences seems to the eye to be at a similar threshold between the two tissue types. Standard deviations are higher due to averaging over patients. However, the equal variances assumption is not valid for this grouping either"
   ]
  },
  {
   "cell_type": "markdown",
   "metadata": {},
   "source": [
    "# T-TESTS"
   ]
  },
  {
   "cell_type": "markdown",
   "metadata": {},
   "source": [
    "Groupings 3, 4, and 6 are the most valuable. Any grouping that averages across load levels will not be valuable to use because we are certain that the load level is the key parameter, which can be clearly seen in the plots.\n",
    "\n",
    "For the comparison of the control and crush serosal thickness measurements a one-tailed t-test will be used since it is known that the serosal thins due to crush, never thickens. The t-tests are independent, however a relative t-test will be done in addition for grouping 4 since there is patient specific pairing of measurements.\n",
    "\n",
    "The results will show the patient, tissue, and/or load level as needed along with the t score and p score statistics. Significant p scores will be less than 0.05. The absolute and percent deformation delta (from control to crush) averages for the groups will also be output for use in modelling."
   ]
  },
  {
   "cell_type": "code",
   "execution_count": null,
   "metadata": {},
   "outputs": [],
   "source": [
    "from scipy.stats import ttest_ind, ttest_rel"
   ]
  },
  {
   "cell_type": "markdown",
   "metadata": {},
   "source": [
    "### 3. Group by load level\n",
    "Assumption of equal variance is valid."
   ]
  },
  {
   "cell_type": "code",
   "execution_count": null,
   "metadata": {},
   "outputs": [],
   "source": [
    "tstats = np.ones([6, 4]) * np.nan\n",
    "tstats[:, 0] = data.load.unique()\n",
    "tstats"
   ]
  },
  {
   "cell_type": "code",
   "execution_count": null,
   "metadata": {},
   "outputs": [],
   "source": [
    "load_cont = data[(data.crush == False)][['load','thickness']]\n",
    "load_crush = data[(data.crush == True)][['load','thickness']]\n",
    "\n",
    "print(f\"Control measurements: {load_cont.shape[0]}\")\n",
    "print(f\"Crush measurements: {load_crush.shape[0]}\")"
   ]
  },
  {
   "cell_type": "code",
   "execution_count": null,
   "metadata": {},
   "outputs": [],
   "source": [
    "for i in range(tstats.shape[0]):\n",
    "    load = tstats[i, 0]\n",
    "    ttest, pval = ttest_ind(load_cont[load_cont.load == load].thickness,\n",
    "                            load_crush[load_crush.load == load].thickness,\n",
    "                            equal_var=True)\n",
    "    tstats[i, 1] = ttest\n",
    "    tstats[i, 2] = pval / 2 # one tailed\n",
    "    tstats[i, 3] = tstats[i, 2] < 0.05\n",
    "\n",
    "tstats = pd.DataFrame(tstats, columns=['Load (g)', 'T Score', 'P Score', 'Significant'])"
   ]
  },
  {
   "cell_type": "markdown",
   "metadata": {},
   "source": [
    "Add in the deformation delta values."
   ]
  },
  {
   "cell_type": "code",
   "execution_count": null,
   "metadata": {},
   "outputs": [],
   "source": [
    "tstats['Absolute Delta (um)'] = np.nan\n",
    "tstats['Percent Delta'] = np.nan\n",
    "\n",
    "for i in tstats.index:\n",
    "    load = tstats.loc[i, 'Load (g)']\n",
    "    initial = load_cont[load_cont.load == load].thickness.mean()\n",
    "    delta = load_crush[load_crush.load == load].thickness.mean() - initial\n",
    "    tstats.loc[i, 'Absolute Delta (um)'] = delta\n",
    "    tstats.loc[i, 'Percent Delta'] = 100 * delta / initial"
   ]
  },
  {
   "cell_type": "code",
   "execution_count": null,
   "metadata": {},
   "outputs": [],
   "source": [
    "tstats"
   ]
  },
  {
   "cell_type": "code",
   "execution_count": null,
   "metadata": {},
   "outputs": [],
   "source": [
    "tstats.to_csv('ttests_load.csv')"
   ]
  },
  {
   "cell_type": "code",
   "execution_count": null,
   "metadata": {},
   "outputs": [],
   "source": [
    "tstats = tstats.set_index('Load (g)')\n",
    "tstats[['T Score', 'P Score']].plot();"
   ]
  },
  {
   "cell_type": "code",
   "execution_count": null,
   "metadata": {},
   "outputs": [],
   "source": [
    "tstats[['Absolute Delta (um)', 'Percent Delta']].plot();"
   ]
  },
  {
   "cell_type": "markdown",
   "metadata": {},
   "source": [
    "### 4. Group by patient and load level\n",
    "Assumption of equal variance is NOT valid."
   ]
  },
  {
   "cell_type": "code",
   "execution_count": null,
   "metadata": {},
   "outputs": [],
   "source": [
    "cont = data[(data.crush == False)][['patient','tissue','load','thickness']]\n",
    "crush = data[(data.crush == True)][['patient','tissue','load','thickness']]\n",
    "\n",
    "print(f\"Control measurements: {cont.shape[0]}\")\n",
    "print(f\"Crush measurements: {crush.shape[0]}\")"
   ]
  },
  {
   "cell_type": "code",
   "execution_count": null,
   "metadata": {},
   "outputs": [],
   "source": [
    "patient_opts = data.patient.unique()\n",
    "load_opts = data.load.unique()"
   ]
  },
  {
   "cell_type": "code",
   "execution_count": null,
   "metadata": {},
   "outputs": [],
   "source": [
    "tstats = pd.DataFrame(columns=['Patient Code', 'Tissue', 'Load (g)', 'T Score', 'P Score', 'Significant'])"
   ]
  },
  {
   "cell_type": "code",
   "execution_count": null,
   "metadata": {},
   "outputs": [],
   "source": [
    "tstats_list = []\n",
    "tstats_rel_list = []\n",
    "for i in range(patient_opts.shape[0]):\n",
    "    patient = patient_opts[i]\n",
    "    for j in range(load_opts.shape[0]):\n",
    "        load = load_opts[j]\n",
    "        \n",
    "        # Add row to dataframe\n",
    "        tstats = tstats.append({'Patient Code': patient, \n",
    "                                'Tissue': (data[data.patient == patient].tissue).unique()[0],\n",
    "                                'Load (g)': load}, ignore_index=True)\n",
    "        \n",
    "        # Do independent t-test and store\n",
    "        ttest, pval = ttest_ind(cont[(cont.patient == patient) & (cont.load == load)].thickness,\n",
    "                                crush[(crush.patient == patient) & (crush.load == load)].thickness,\n",
    "                                equal_var=False)\n",
    "        pval = pval / 2 # one tailed\n",
    "        tstats_list.append((ttest, pval, pval < 0.05))\n",
    "        \n",
    "        # Do relative t-test and store\n",
    "        ttest, pval = ttest_rel(cont[(cont.patient == patient) & (cont.load == load)].thickness,\n",
    "                                crush[(crush.patient == patient) & (crush.load == load)].thickness)\n",
    "        pval = pval / 2 # one tailed\n",
    "        tstats_rel_list.append((ttest, pval, pval < 0.05))"
   ]
  },
  {
   "cell_type": "code",
   "execution_count": null,
   "metadata": {},
   "outputs": [],
   "source": [
    "# Add statistics to dataframe\n",
    "tstats_list = np.array(tstats_list)\n",
    "tstats_rel_list = np.array(tstats_rel_list)\n",
    "tstats_rel = tstats.copy()  # relative t-test dataframe\n",
    "\n",
    "for i in range(tstats.shape[0]):\n",
    "    tstats.iloc[i, 3:] = tstats_list[i, :]\n",
    "    tstats_rel.iloc[i, 3:] = tstats_rel_list[i, :]\n",
    "\n",
    "# Remove missing combinations\n",
    "tstats = tstats.dropna()\n",
    "tstats_rel = tstats_rel.dropna()"
   ]
  },
  {
   "cell_type": "markdown",
   "metadata": {},
   "source": [
    "Add in the deformation delta values."
   ]
  },
  {
   "cell_type": "code",
   "execution_count": null,
   "metadata": {},
   "outputs": [],
   "source": [
    "def add_deformation(tstats):\n",
    "    tstats = tstats.copy()\n",
    "    tstats['Absolute Delta (um)'] = np.nan\n",
    "    tstats['Percent Delta'] = np.nan\n",
    "\n",
    "    for i in tstats.index:\n",
    "        patient = tstats.loc[i, 'Patient Code']\n",
    "        load = tstats.loc[i, 'Load (g)']\n",
    "        initial = cont[(cont.patient == patient) & (cont.load == load)].thickness.mean()\n",
    "        delta = crush[(crush.patient == patient) & (crush.load == load)].thickness.mean() - initial\n",
    "        tstats.loc[i, 'Absolute Delta (um)'] = delta\n",
    "        tstats.loc[i, 'Percent Delta'] = 100 * delta / initial\n",
    "    return tstats"
   ]
  },
  {
   "cell_type": "code",
   "execution_count": null,
   "metadata": {},
   "outputs": [],
   "source": [
    "tstats = add_deformation(tstats)\n",
    "tstats_rel = add_deformation(tstats_rel)"
   ]
  },
  {
   "cell_type": "code",
   "execution_count": null,
   "metadata": {},
   "outputs": [],
   "source": [
    "tstats"
   ]
  },
  {
   "cell_type": "markdown",
   "metadata": {},
   "source": [
    "Compare the relative t-test results."
   ]
  },
  {
   "cell_type": "code",
   "execution_count": null,
   "metadata": {},
   "outputs": [],
   "source": [
    "tstats_rel"
   ]
  },
  {
   "cell_type": "code",
   "execution_count": null,
   "metadata": {},
   "outputs": [],
   "source": [
    "print(\"Number of significant t-tests:\")\n",
    "print(f\"Independent = {tstats['Significant'].sum()}\")\n",
    "print(f\"Relative = {tstats_rel['Significant'].sum()}\")"
   ]
  },
  {
   "cell_type": "code",
   "execution_count": null,
   "metadata": {},
   "outputs": [],
   "source": [
    "print(f\"Disagreements = {(tstats['Significant'] - tstats_rel['Significant']).abs().sum()}\")"
   ]
  },
  {
   "cell_type": "code",
   "execution_count": null,
   "metadata": {},
   "outputs": [],
   "source": [
    "mask = tstats['Significant'] != tstats_rel['Significant']\n",
    "tstats[mask]"
   ]
  },
  {
   "cell_type": "code",
   "execution_count": null,
   "metadata": {},
   "outputs": [],
   "source": [
    "tstats_rel[mask]"
   ]
  },
  {
   "cell_type": "markdown",
   "metadata": {},
   "source": [
    "Very few disagreements between the two types of t-tests are present. The following plots show the patients where there is disagreement."
   ]
  },
  {
   "cell_type": "code",
   "execution_count": null,
   "metadata": {},
   "outputs": [],
   "source": [
    "pat_load_cont = data[(data.crush == False)][['patient', 'load', 'thickness']].groupby(['patient', 'load']).describe().rename(columns={'thickness': 'control'})\n",
    "pat_load_crush = data[(data.crush == True)][['patient', 'load', 'thickness']].groupby(['patient', 'load']).describe().rename(columns={'thickness': 'crush'})\n",
    "stats = pd.concat([pat_load_cont, pat_load_crush], axis=1, levels=['control', 'crush'])"
   ]
  },
  {
   "cell_type": "code",
   "execution_count": null,
   "metadata": {},
   "outputs": [],
   "source": [
    "for p in tstats[mask]['Patient Code']:\n",
    "    stats.loc[(p), (['control', 'crush'], ['mean', 'std'])].plot(kind='bar')\n",
    "    plt.title(f'Serosal thickness by load level for patient {p}');"
   ]
  },
  {
   "cell_type": "markdown",
   "metadata": {},
   "source": [
    "On inspection both results are reasonable and don't depend on tissue type, but per best practices in statistics the relative t-test will be used. Since each set of measurements (crush and control) come from the same patient histological slide for this grouping the paired t-test is most appropriate. The independent t-test runs the risk of being overly confident in identifying significance."
   ]
  },
  {
   "cell_type": "code",
   "execution_count": null,
   "metadata": {},
   "outputs": [],
   "source": [
    "tstats_rel.to_csv('ttests_all.csv')"
   ]
  },
  {
   "cell_type": "code",
   "execution_count": null,
   "metadata": {},
   "outputs": [],
   "source": [
    "tstats_table = tstats_rel.groupby(['Patient Code', 'Tissue', 'Load (g)'], sort=False).max()\n",
    "tstats_table"
   ]
  },
  {
   "cell_type": "markdown",
   "metadata": {},
   "source": [
    "### 6. Group by tissue type and load level\n",
    "Assumption of equal variance is NOT valid."
   ]
  },
  {
   "cell_type": "code",
   "execution_count": null,
   "metadata": {},
   "outputs": [],
   "source": [
    "cont = data[(data.crush == False)][['patient','tissue','load','thickness']]\n",
    "crush = data[(data.crush == True)][['patient','tissue','load','thickness']]\n",
    "\n",
    "print(f\"Control measurements: {cont.shape[0]}\")\n",
    "print(f\"Crush measurements: {crush.shape[0]}\")"
   ]
  },
  {
   "cell_type": "code",
   "execution_count": null,
   "metadata": {},
   "outputs": [],
   "source": [
    "tissue_opts = data.tissue.unique()\n",
    "load_opts = data.load.unique()"
   ]
  },
  {
   "cell_type": "code",
   "execution_count": null,
   "metadata": {},
   "outputs": [],
   "source": [
    "tstats = pd.DataFrame(columns=['Tissue', 'Load (g)', 'T Score', 'P Score', 'Significant'])"
   ]
  },
  {
   "cell_type": "code",
   "execution_count": null,
   "metadata": {},
   "outputs": [],
   "source": [
    "tstats_list = []\n",
    "for i in range(tissue_opts.shape[0]):\n",
    "    tissue = tissue_opts[i]\n",
    "    for j in range(load_opts.shape[0]):\n",
    "        load = load_opts[j]\n",
    "        \n",
    "        # Add row to dataframe\n",
    "        tstats = tstats.append({'Tissue': tissue, 'Load (g)': load}, ignore_index=True)\n",
    "        \n",
    "        # Do independent t-test and store\n",
    "        ttest, pval = ttest_ind(cont[(cont.tissue == tissue) & (cont.load == load)].thickness,\n",
    "                                crush[(crush.tissue == tissue) & (crush.load == load)].thickness,\n",
    "                                equal_var=False)\n",
    "        pval = pval / 2 # one tailed\n",
    "        tstats_list.append((ttest, pval, pval < 0.05))"
   ]
  },
  {
   "cell_type": "code",
   "execution_count": null,
   "metadata": {},
   "outputs": [],
   "source": [
    "# Add statistics to dataframe\n",
    "tstats_list = np.array(tstats_list)\n",
    "for i in range(tstats.shape[0]):\n",
    "    tstats.iloc[i, 2:] = tstats_list[i, :]\n",
    "\n",
    "# Remove missing combinations\n",
    "tstats = tstats.dropna()"
   ]
  },
  {
   "cell_type": "code",
   "execution_count": null,
   "metadata": {},
   "outputs": [],
   "source": [
    "tstats"
   ]
  },
  {
   "cell_type": "markdown",
   "metadata": {},
   "source": [
    "Add in the deformation delta values."
   ]
  },
  {
   "cell_type": "code",
   "execution_count": null,
   "metadata": {},
   "outputs": [],
   "source": [
    "tstats['Absolute Delta (um)'] = np.nan\n",
    "tstats['Percent Delta'] = np.nan\n",
    "\n",
    "for i in tstats.index:\n",
    "    tissue = tstats.loc[i, 'Tissue']\n",
    "    load = tstats.loc[i, 'Load (g)']\n",
    "    initial = cont[(cont.tissue == tissue) & (cont.load == load)].thickness.mean()\n",
    "    delta = crush[(crush.tissue == tissue) & (crush.load == load)].thickness.mean() - initial\n",
    "    tstats.loc[i, 'Absolute Delta (um)'] = delta\n",
    "    tstats.loc[i, 'Percent Delta'] = 100 * delta / initial"
   ]
  },
  {
   "cell_type": "code",
   "execution_count": null,
   "metadata": {},
   "outputs": [],
   "source": [
    "tstats.to_csv('ttests_tissue.csv')"
   ]
  },
  {
   "cell_type": "code",
   "execution_count": null,
   "metadata": {},
   "outputs": [],
   "source": [
    "tstats = tstats.set_index('Load (g)')\n",
    "for tissue in tissue_opts:\n",
    "    tstats[tstats['Tissue'] == tissue][['T Score', 'P Score']].plot()\n",
    "    plt.title(tissue)"
   ]
  },
  {
   "cell_type": "code",
   "execution_count": null,
   "metadata": {},
   "outputs": [],
   "source": [
    "tstats"
   ]
  },
  {
   "cell_type": "code",
   "execution_count": null,
   "metadata": {},
   "outputs": [],
   "source": [
    "for tissue in tissue_opts:\n",
    "    tstats[tstats['Tissue'] == tissue][['Absolute Delta (um)', 'Percent Delta']].plot()\n",
    "    plt.title(tissue)"
   ]
  },
  {
   "cell_type": "code",
   "execution_count": null,
   "metadata": {},
   "outputs": [],
   "source": []
  }
 ],
 "metadata": {
  "kernelspec": {
   "display_name": "Python 3",
   "language": "python",
   "name": "python3"
  },
  "language_info": {
   "codemirror_mode": {
    "name": "ipython",
    "version": 3
   },
   "file_extension": ".py",
   "mimetype": "text/x-python",
   "name": "python",
   "nbconvert_exporter": "python",
   "pygments_lexer": "ipython3"
  }
 },
 "nbformat": 4,
 "nbformat_minor": 4
}
