{
 "cells": [
  {
   "cell_type": "code",
   "execution_count": null,
   "metadata": {},
   "outputs": [],
   "source": [
    "%config InlineBackend.figure_format = 'retina'\n",
    "%load_ext autoreload\n",
    "%autoreload 2\n",
    "%matplotlib inline"
   ]
  },
  {
   "cell_type": "code",
   "execution_count": null,
   "metadata": {},
   "outputs": [],
   "source": [
    "from crush_read import *\n",
    "from crush_plot import *\n",
    "plt.style.use('ggplot')\n",
    "PATH"
   ]
  },
  {
   "cell_type": "code",
   "execution_count": null,
   "metadata": {},
   "outputs": [],
   "source": [
    "study = study_outline(PATH)\n",
    "targets = study_targets(PATH)\n",
    "crushes = study_data(study)\n",
    "crushes = modify(crushes)\n",
    "crushes = calculate(crushes)"
   ]
  },
  {
   "cell_type": "code",
   "execution_count": null,
   "metadata": {},
   "outputs": [],
   "source": [
    "_ = prep(crushes, targets)\n",
    "crushes = refine(crushes, drop_cols=False)"
   ]
  },
  {
   "cell_type": "markdown",
   "metadata": {},
   "source": [
    "Prepare graphs needed for paper."
   ]
  },
  {
   "cell_type": "code",
   "execution_count": null,
   "metadata": {},
   "outputs": [],
   "source": [
    "# Convenience functions\n",
    "def patient(patient):\n",
    "    return crushes.loc[crushes['Patient'] == patient.upper(), :]\n",
    "\n",
    "def tissue(tissue):\n",
    "    return crushes.loc[crushes['Tissue'] == tissue.upper(), :]\n",
    "\n",
    "def protocol(protocol):\n",
    "    return crushes.loc[crushes['Protocol'] == protocol.upper(), :]\n",
    "\n",
    "def load(load):\n",
    "    return crushes.loc[crushes['Load'] == load.lower(), :]"
   ]
  },
  {
   "cell_type": "code",
   "execution_count": null,
   "metadata": {},
   "outputs": [],
   "source": [
    "crushes"
   ]
  },
  {
   "cell_type": "markdown",
   "metadata": {},
   "source": [
    "Focus on stop and first 10 patients."
   ]
  },
  {
   "cell_type": "code",
   "execution_count": null,
   "metadata": {},
   "outputs": [],
   "source": [
    "crushes = protocol('stop')\n",
    "crushes = crushes[crushes['Patient'].isin(['PC1', 'PC2', 'PC3', 'PC4', 'PC5', 'PC6', 'PC7', 'PC8', 'PC9', 'PC10'])]"
   ]
  },
  {
   "cell_type": "code",
   "execution_count": null,
   "metadata": {},
   "outputs": [],
   "source": [
    "crushes"
   ]
  },
  {
   "cell_type": "code",
   "execution_count": null,
   "metadata": {},
   "outputs": [],
   "source": [
    "sb = tissue('sb')\n",
    "sb.shape"
   ]
  },
  {
   "cell_type": "code",
   "execution_count": null,
   "metadata": {},
   "outputs": [],
   "source": [
    "colon = tissue('colon')\n",
    "colon.shape"
   ]
  },
  {
   "cell_type": "code",
   "execution_count": null,
   "metadata": {},
   "outputs": [],
   "source": [
    "crushes['Patient'].unique()"
   ]
  },
  {
   "cell_type": "markdown",
   "metadata": {},
   "source": [
    "# COLON PERCENTAGE PLOT"
   ]
  },
  {
   "cell_type": "code",
   "execution_count": null,
   "metadata": {},
   "outputs": [],
   "source": [
    "damage = colon['Damage Score']\n",
    "colon_dam = pd.DataFrame({'No Damage': (damage == 0),\n",
    "                          'Minor Damage': (damage == 1),\n",
    "                          'Major Damage': (damage == 2)})\n",
    "colon_dam = pd.concat([colon_dam, colon['Load (g)']], axis=1)\n",
    "colon_dam"
   ]
  },
  {
   "cell_type": "code",
   "execution_count": null,
   "metadata": {},
   "outputs": [],
   "source": [
    "group = colon_dam.groupby('Load (g)').sum()\n",
    "group['Count'] = group.sum(axis=1)\n",
    "group"
   ]
  },
  {
   "cell_type": "code",
   "execution_count": null,
   "metadata": {},
   "outputs": [],
   "source": [
    "group[['Minor Damage', 'Major Damage']].plot.bar(width=0.8)"
   ]
  },
  {
   "cell_type": "code",
   "execution_count": null,
   "metadata": {},
   "outputs": [],
   "source": [
    "group = group.reset_index()\n",
    "group"
   ]
  },
  {
   "cell_type": "code",
   "execution_count": null,
   "metadata": {},
   "outputs": [],
   "source": [
    "damage_types = ['No Damage', 'Minor Damage', 'Major Damage']\n",
    "for damage in damage_types:\n",
    "    group[damage] = group[damage] / group['Count']\n",
    "group"
   ]
  },
  {
   "cell_type": "code",
   "execution_count": null,
   "metadata": {},
   "outputs": [],
   "source": [
    "from matplotlib.colors import ListedColormap"
   ]
  },
  {
   "cell_type": "code",
   "execution_count": null,
   "metadata": {},
   "outputs": [],
   "source": [
    "colors = ListedColormap(['blue', 'orange', 'red'])\n",
    "width = 50\n",
    "\n",
    "for i, damage in enumerate(damage_types):\n",
    "    plt.figure()\n",
    "    plt.bar(x=group['Load (g)'], height=group[damage], width=width, label=damage, color=colors(i))\n",
    "    plt.legend()\n",
    "    plt.ylabel('Percentage of Samples')\n",
    "    plt.xlabel('Load (g)')\n",
    "    plt.ylim(0, 1)\n",
    "    ax = plt.gca()\n",
    "    ticks = ax.get_yticks()\n",
    "    ax.set_yticklabels(['{:.0%}'.format(x) for x in ticks])"
   ]
  },
  {
   "cell_type": "code",
   "execution_count": null,
   "metadata": {},
   "outputs": [],
   "source": [
    "colors = ListedColormap(['blue', 'orange', 'red'])\n",
    "width = 50\n",
    "shift = [-width, 0, width]\n",
    "plt.figure()\n",
    "for i, damage in enumerate(damage_types): \n",
    "    if i == 0:\n",
    "        continue\n",
    "    x_val = group['Load (g)'] + shift[i]\n",
    "    plt.bar(x=x_val, height=group[damage], width=width, label=damage, color=colors(i))\n",
    "plt.legend()\n",
    "plt.ylabel('Percentage of Samples')\n",
    "plt.xlabel('Load (g)')\n",
    "plt.ylim(0, 1)\n",
    "ax = plt.gca()\n",
    "ticks = ax.get_yticks()\n",
    "_ = ax.set_yticklabels(['{:.0%}'.format(x) for x in ticks])"
   ]
  },
  {
   "cell_type": "code",
   "execution_count": null,
   "metadata": {},
   "outputs": [],
   "source": [
    "nice_colors = ListedColormap(['orangered', 'orange', 'dodgerblue'])"
   ]
  },
  {
   "cell_type": "code",
   "execution_count": null,
   "metadata": {},
   "outputs": [],
   "source": [
    "def disp_stress(x):\n",
    "    return np.round(9.81 * x.values / (np.pi * ((5/2) ** 2)), 0)\n",
    "disp_stress(group['Load (g)'])"
   ]
  },
  {
   "cell_type": "code",
   "execution_count": null,
   "metadata": {},
   "outputs": [],
   "source": [
    "width = 50"
   ]
  },
  {
   "cell_type": "code",
   "execution_count": null,
   "metadata": {},
   "outputs": [],
   "source": [
    "plt.figure()\n",
    "types = list(reversed(damage_types))\n",
    "for i, damage in enumerate(types):\n",
    "    inputs = {'x': disp_stress(group['Load (g)']),\n",
    "              'height': group[damage],\n",
    "              'width': width,\n",
    "              'label': damage + f' [{2 - i}]',\n",
    "              'color': nice_colors(i)}\n",
    "    if i == 1:\n",
    "        bottom = group[types[i - 1]]\n",
    "        inputs['bottom'] = bottom\n",
    "    if i > 1:\n",
    "        bottom = bottom + group[types[i - 1]]\n",
    "        inputs['bottom'] = bottom\n",
    "    plt.bar(**inputs)\n",
    "plt.figlegend(loc='upper center', ncol=len(damage_types))\n",
    "plt.title('Trauma Score - Colon', size=10, weight='bold')\n",
    "plt.ylabel('Percentage of Samples')\n",
    "plt.xlabel('Pressure (kPa)')\n",
    "plt.ylim(0, 1)\n",
    "ax = plt.gca()\n",
    "ticks = ax.get_yticks()\n",
    "_ = ax.set_yticklabels(['{:.0%}'.format(x) for x in ticks])"
   ]
  },
  {
   "cell_type": "code",
   "execution_count": null,
   "metadata": {},
   "outputs": [],
   "source": [
    "# Same for serosal thickness change\n",
    "delta = colon['Significant Serosal Change']\n",
    "colon_del = pd.DataFrame({'No Change': (delta == False),\n",
    "                          'Significant Change': (delta == True)})\n",
    "colon_del = pd.concat([colon_del, colon['Load (g)']], axis=1)"
   ]
  },
  {
   "cell_type": "code",
   "execution_count": null,
   "metadata": {},
   "outputs": [],
   "source": [
    "group = colon_del.groupby('Load (g)').sum()\n",
    "group['Count'] = group.sum(axis=1)\n",
    "group = group.reset_index()"
   ]
  },
  {
   "cell_type": "code",
   "execution_count": null,
   "metadata": {},
   "outputs": [],
   "source": [
    "ser_colors = ListedColormap(['orchid', 'turquoise'])"
   ]
  },
  {
   "cell_type": "code",
   "execution_count": null,
   "metadata": {},
   "outputs": [],
   "source": [
    "delta_types = ['No Change', 'Significant Change']\n",
    "for delta in delta_types:\n",
    "    group[delta] = group[delta] / group['Count']\n",
    "types = list(reversed(delta_types))\n",
    "\n",
    "plt.figure()\n",
    "for i, damage in enumerate(types):\n",
    "    inputs = {'x': disp_stress(group['Load (g)']),\n",
    "              'height': group[damage],\n",
    "              'width': width,\n",
    "              'label': damage,\n",
    "              'color': ser_colors(i)}\n",
    "    if i == 1:\n",
    "        bottom = group[types[i - 1]]\n",
    "        inputs['bottom'] = bottom\n",
    "    if i > 1:\n",
    "        bottom = bottom + group[types[i - 1]]\n",
    "        inputs['bottom'] = bottom\n",
    "    plt.bar(**inputs)\n",
    "plt.figlegend(loc='upper center', ncol=len(damage_types))\n",
    "plt.title('Serosal Thickness Change - Colon', size=10, weight='bold')\n",
    "plt.ylabel('Percentage of Samples')\n",
    "plt.xlabel('Pressure (kPa)')\n",
    "plt.ylim(0, 1)\n",
    "ax = plt.gca()\n",
    "ticks = ax.get_yticks()\n",
    "_ = ax.set_yticklabels(['{:.0%}'.format(x) for x in ticks])"
   ]
  },
  {
   "cell_type": "code",
   "execution_count": null,
   "metadata": {},
   "outputs": [],
   "source": [
    "group"
   ]
  },
  {
   "cell_type": "markdown",
   "metadata": {},
   "source": [
    "# SMALL BOWEL PERCENTAGE PLOT"
   ]
  },
  {
   "cell_type": "code",
   "execution_count": null,
   "metadata": {},
   "outputs": [],
   "source": [
    "damage = sb['Damage Score']\n",
    "sb_dam = pd.DataFrame({'No Damage': (damage == 0),\n",
    "                       'Minor Damage': (damage == 1),\n",
    "                       'Major Damage': (damage == 2)})\n",
    "sb_dam = pd.concat([sb_dam, sb['Load (g)']], axis=1)\n",
    "sb_dam"
   ]
  },
  {
   "cell_type": "code",
   "execution_count": null,
   "metadata": {},
   "outputs": [],
   "source": [
    "group = sb_dam.groupby('Load (g)').sum()\n",
    "group['Count'] = group.sum(axis=1)\n",
    "group"
   ]
  },
  {
   "cell_type": "code",
   "execution_count": null,
   "metadata": {},
   "outputs": [],
   "source": [
    "group = group.reset_index()\n",
    "group"
   ]
  },
  {
   "cell_type": "code",
   "execution_count": null,
   "metadata": {},
   "outputs": [],
   "source": [
    "damage_types = ['No Damage', 'Minor Damage', 'Major Damage']\n",
    "for damage in damage_types:\n",
    "    group[damage] = group[damage] / group['Count']\n",
    "group"
   ]
  },
  {
   "cell_type": "code",
   "execution_count": null,
   "metadata": {},
   "outputs": [],
   "source": [
    "plt.figure()\n",
    "types = list(reversed(damage_types))\n",
    "for i, damage in enumerate(types):\n",
    "    inputs = {'x': disp_stress(group['Load (g)']),\n",
    "              'height': group[damage],\n",
    "              'width': width,\n",
    "              'label': damage + f' [{2 - i}]',\n",
    "              'color': nice_colors(i)}\n",
    "    if i == 1:\n",
    "        bottom = group[types[i - 1]]\n",
    "        inputs['bottom'] = bottom\n",
    "    if i > 1:\n",
    "        bottom = bottom + group[types[i - 1]]\n",
    "        inputs['bottom'] = bottom\n",
    "    plt.bar(**inputs)\n",
    "plt.figlegend(loc='upper center', ncol=len(damage_types))\n",
    "plt.title('Trauma Score - Small Bowel', size=10, weight='bold')\n",
    "plt.ylabel('Percentage of Samples')\n",
    "plt.xlabel('Pressure (kPa)')\n",
    "plt.ylim(0, 1)\n",
    "ax = plt.gca()\n",
    "ticks = ax.get_yticks()\n",
    "_ = ax.set_yticklabels(['{:.0%}'.format(x) for x in ticks])"
   ]
  },
  {
   "cell_type": "code",
   "execution_count": null,
   "metadata": {},
   "outputs": [],
   "source": [
    "# Same for serosal thickness change\n",
    "delta = sb['Significant Serosal Change']\n",
    "sb_del = pd.DataFrame({'No Change': (delta == False),\n",
    "                       'Significant Change': (delta == True)})\n",
    "sb_del = pd.concat([sb_del, sb['Load (g)']], axis=1)\n",
    "group = sb_del.groupby('Load (g)').sum()\n",
    "group['Count'] = group.sum(axis=1)\n",
    "group = group.reset_index()"
   ]
  },
  {
   "cell_type": "code",
   "execution_count": null,
   "metadata": {},
   "outputs": [],
   "source": [
    "delta_types = ['No Change', 'Significant Change']\n",
    "for delta in delta_types:\n",
    "    group[delta] = group[delta] / group['Count']\n",
    "types = list(reversed(delta_types))\n",
    "\n",
    "plt.figure()\n",
    "for i, damage in enumerate(types):\n",
    "    inputs = {'x': disp_stress(group['Load (g)']),\n",
    "              'height': group[damage],\n",
    "              'width': width,\n",
    "              'label': damage,\n",
    "              'color': ser_colors(i)}\n",
    "    if i == 1:\n",
    "        bottom = group[types[i - 1]]\n",
    "        inputs['bottom'] = bottom\n",
    "    if i > 1:\n",
    "        bottom = bottom + group[types[i - 1]]\n",
    "        inputs['bottom'] = bottom\n",
    "    plt.bar(**inputs)\n",
    "plt.figlegend(loc='upper center', ncol=len(damage_types))\n",
    "plt.title('Serosal Thickness Change - Small Bowel', size=10, weight='bold')\n",
    "plt.ylabel('Percentage of Samples')\n",
    "plt.xlabel('Pressure (kPa)')\n",
    "plt.ylim(0, 1)\n",
    "ax = plt.gca()\n",
    "ticks = ax.get_yticks()\n",
    "_ = ax.set_yticklabels(['{:.0%}'.format(x) for x in ticks])"
   ]
  },
  {
   "cell_type": "code",
   "execution_count": null,
   "metadata": {},
   "outputs": [],
   "source": [
    "for i, c in group['Count'].items():\n",
    "    print(group['Load (g)'][i])\n",
    "    print(c)"
   ]
  },
  {
   "cell_type": "markdown",
   "metadata": {},
   "source": [
    "# Tissue Average Serosal Thickness Plot"
   ]
  },
  {
   "cell_type": "code",
   "execution_count": null,
   "metadata": {},
   "outputs": [],
   "source": [
    "t_pre = colon['Serosal Thickness (mm)']\n",
    "t_post = colon['Post Serosal Thickness (mm)']\n",
    "perc_delta = (t_post - t_pre) / t_pre\n",
    "colon_thickness = pd.DataFrame({'Percent Delta (COLON)': perc_delta,\n",
    "                                'Load (g)': colon['Load (g)']})\n",
    "colon_thickness = colon_thickness.groupby('Load (g)').mean()\n",
    "colon_thickness"
   ]
  },
  {
   "cell_type": "code",
   "execution_count": null,
   "metadata": {},
   "outputs": [],
   "source": [
    "t_pre = sb['Serosal Thickness (mm)']\n",
    "t_post = sb['Post Serosal Thickness (mm)']\n",
    "perc_delta = (t_post - t_pre) / t_pre\n",
    "sb_thickness = pd.DataFrame({'Percent Delta (SB)': perc_delta,\n",
    "                             'Load (g)': sb['Load (g)']})\n",
    "sb_thickness = sb_thickness.groupby('Load (g)').mean()\n",
    "sb_thickness"
   ]
  },
  {
   "cell_type": "code",
   "execution_count": null,
   "metadata": {},
   "outputs": [],
   "source": [
    "group = pd.concat([sb_thickness, colon_thickness], axis=1)\n",
    "group = group.reset_index()\n",
    "group"
   ]
  },
  {
   "cell_type": "code",
   "execution_count": null,
   "metadata": {},
   "outputs": [],
   "source": [
    "tissue_colors = ListedColormap(['oldlace', 'sandybrown'])"
   ]
  },
  {
   "cell_type": "code",
   "execution_count": null,
   "metadata": {},
   "outputs": [],
   "source": [
    "types = ['Percent Delta (SB)', 'Percent Delta (COLON)']\n",
    "labels = ['Small Bowel', 'Colon']\n",
    "width = 40\n",
    "shift = [-20, 20]\n",
    "plt.figure()\n",
    "for i, typ in enumerate(types):\n",
    "    inputs = {'x': disp_stress(group['Load (g)'])  + shift[i],\n",
    "              'height': group[typ].abs(),\n",
    "              'width': width,\n",
    "              'label': labels[i],\n",
    "              'color': tissue_colors(i)}\n",
    "    plt.bar(**inputs)\n",
    "plt.figlegend(loc='upper center', ncol=len(damage_types))\n",
    "plt.title('Serosal Thickness Percent Deformation', size=10, weight='bold')\n",
    "plt.ylabel('Percent Deformation')\n",
    "plt.xlabel('Pressure (kPa)')\n",
    "plt.ylim(0, 0.6)\n",
    "ax = plt.gca()\n",
    "ticks = ax.get_yticks()\n",
    "_ = ax.set_yticklabels(['-{:.0%}'.format(x) for x in ticks])"
   ]
  },
  {
   "cell_type": "markdown",
   "metadata": {},
   "source": [
    "# Patient Plots"
   ]
  },
  {
   "cell_type": "code",
   "execution_count": null,
   "metadata": {},
   "outputs": [],
   "source": [
    "score = pd.DataFrame({'Damage Score': crushes['Damage Score'],\n",
    "                      'Tissue': crushes['Tissue'],\n",
    "                      'Load (g)': crushes['Load (g)'],\n",
    "                      'Patient': crushes['Patient']})\n",
    "\n",
    "score = score.groupby(['Patient', 'Tissue', 'Load (g)']).mean()\n",
    "score"
   ]
  },
  {
   "cell_type": "code",
   "execution_count": null,
   "metadata": {},
   "outputs": [],
   "source": [
    "def str_int(s):\n",
    "    return int(s[2:])\n",
    "patients = sorted(score.index.levels[0].unique(), key=str_int)"
   ]
  },
  {
   "cell_type": "code",
   "execution_count": null,
   "metadata": {},
   "outputs": [],
   "source": [
    "len(patients)"
   ]
  },
  {
   "cell_type": "code",
   "execution_count": null,
   "metadata": {},
   "outputs": [],
   "source": [
    "fig = plt.figure()\n",
    "axes = [None] * 10\n",
    "axes[0] = plt.subplot2grid((5, 2), (0, 0))\n",
    "axes[1] = plt.subplot2grid((5, 2), (0, 1))\n",
    "axes[2] = plt.subplot2grid((5, 2), (1, 0))\n",
    "axes[3] = plt.subplot2grid((5, 2), (1, 1))\n",
    "axes[4] = plt.subplot2grid((5, 2), (2, 0))\n",
    "axes[5] = plt.subplot2grid((5, 2), (2, 1))\n",
    "axes[6] = plt.subplot2grid((5, 2), (3, 0))\n",
    "axes[7] = plt.subplot2grid((5, 2), (3, 1))\n",
    "axes[8] = plt.subplot2grid((5, 2), (4, 0))\n",
    "axes[9] = plt.subplot2grid((5, 2), (4, 1))\n",
    "\n",
    "labels = {'SB': 'Small Bowel', 'COLON': 'Colon'}\n",
    "for i, pat in enumerate(patients):\n",
    "    pat_score = score.loc[pat].reset_index()\n",
    "    tissue = labels[pat_score['Tissue'].iloc[0]]\n",
    "    \n",
    "    ax = axes[i]\n",
    "    inputs = {'x': disp_stress(pat_score['Load (g)']),  # + shift[i],\n",
    "              'y': pat_score['Damage Score'],\n",
    "              'color': 'indigo'}\n",
    "    ax.scatter(**inputs)\n",
    "\n",
    "    ax.set_title(f'Patient {i + 1} - {tissue}', size=10)\n",
    "    ax.set_ylim(-0.5, 2.5)\n",
    "    ax.set_yticks([0, 1, 2])\n",
    "    ax.set_xlim(0, 700)\n",
    "    if i > 7:\n",
    "        ax.set_xlabel('Pressure (kPa)')\n",
    "        ax.set_xticks([100, 200, 300, 400, 500, 600])\n",
    "    else:\n",
    "        ax.set_xticklabels([])\n",
    "fig.suptitle('Trauma Score', size=10, weight='bold')\n",
    "plt.subplots_adjust(hspace=0.6)"
   ]
  },
  {
   "cell_type": "code",
   "execution_count": null,
   "metadata": {},
   "outputs": [],
   "source": [
    "score.loc['PC1'].reset_index()"
   ]
  },
  {
   "cell_type": "markdown",
   "metadata": {},
   "source": [
    "# Pressure, position, stress-strain plots"
   ]
  },
  {
   "cell_type": "code",
   "execution_count": null,
   "metadata": {},
   "outputs": [],
   "source": [
    "example = random(crushes)"
   ]
  },
  {
   "cell_type": "code",
   "execution_count": null,
   "metadata": {},
   "outputs": [],
   "source": [
    "pressure_plot(example, trim=False)"
   ]
  },
  {
   "cell_type": "code",
   "execution_count": null,
   "metadata": {},
   "outputs": [],
   "source": [
    "position_plot(example, trim=False)"
   ]
  },
  {
   "cell_type": "code",
   "execution_count": null,
   "metadata": {},
   "outputs": [],
   "source": [
    "stress_plot(example, trim=False)"
   ]
  },
  {
   "cell_type": "code",
   "execution_count": null,
   "metadata": {},
   "outputs": [],
   "source": []
  }
 ],
 "metadata": {
  "kernelspec": {
   "display_name": "Python 3",
   "language": "python",
   "name": "python3"
  },
  "language_info": {
   "codemirror_mode": {
    "name": "ipython",
    "version": 3
   },
   "file_extension": ".py",
   "mimetype": "text/x-python",
   "name": "python",
   "nbconvert_exporter": "python",
   "pygments_lexer": "ipython3"
  }
 },
 "nbformat": 4,
 "nbformat_minor": 2
}
