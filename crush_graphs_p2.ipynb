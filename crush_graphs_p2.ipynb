{
 "cells": [
  {
   "cell_type": "code",
   "execution_count": null,
   "metadata": {
    "colab": {
     "base_uri": "https://localhost:8080/",
     "height": 67
    },
    "colab_type": "code",
    "executionInfo": {
     "elapsed": 1992,
     "status": "ok",
     "timestamp": 1585700038627,
     "user": {
      "displayName": "Amy",
      "photoUrl": "https://lh3.googleusercontent.com/a-/AOh14Gg57z5vAYkrFUPlxK1HTSLah82OJ95jTB4gUwKjBA=s64",
      "userId": "14338322890746261609"
     },
     "user_tz": 240
    },
    "id": "QVTYKGx0PKZn",
    "outputId": "04d12e62-f2d7-4b4c-fa56-df06eaecf78c"
   },
   "outputs": [],
   "source": [
    "%config InlineBackend.figure_format = 'retina'\n",
    "%load_ext autoreload\n",
    "%autoreload 2\n",
    "%matplotlib inline"
   ]
  },
  {
   "cell_type": "code",
   "execution_count": null,
   "metadata": {
    "colab": {
     "base_uri": "https://localhost:8080/",
     "height": 34
    },
    "colab_type": "code",
    "executionInfo": {
     "elapsed": 2374,
     "status": "ok",
     "timestamp": 1585700039209,
     "user": {
      "displayName": "Amy",
      "photoUrl": "https://lh3.googleusercontent.com/a-/AOh14Gg57z5vAYkrFUPlxK1HTSLah82OJ95jTB4gUwKjBA=s64",
      "userId": "14338322890746261609"
     },
     "user_tz": 240
    },
    "id": "N5bELHEKPKZu",
    "outputId": "5766661e-ccad-421d-ad9d-c9ca3cba790f"
   },
   "outputs": [],
   "source": [
    "from crush_read import *\n",
    "from crush_plot import *\n",
    "PATH"
   ]
  },
  {
   "cell_type": "code",
   "execution_count": null,
   "metadata": {
    "colab": {},
    "colab_type": "code",
    "id": "Fnz_ZDhZPKZx"
   },
   "outputs": [],
   "source": [
    "plt.style.use('ggplot')\n",
    "plt.rcParams['figure.dpi'] = 150"
   ]
  },
  {
   "cell_type": "code",
   "execution_count": null,
   "metadata": {
    "colab": {},
    "colab_type": "code",
    "id": "jo96CIBqPKZ0"
   },
   "outputs": [],
   "source": [
    "study = study_outline(PATH)\n",
    "targets = study_targets(PATH)"
   ]
  },
  {
   "cell_type": "code",
   "execution_count": null,
   "metadata": {
    "colab": {
     "base_uri": "https://localhost:8080/",
     "height": 1000
    },
    "colab_type": "code",
    "executionInfo": {
     "elapsed": 2420,
     "status": "ok",
     "timestamp": 1585700039370,
     "user": {
      "displayName": "Amy",
      "photoUrl": "https://lh3.googleusercontent.com/a-/AOh14Gg57z5vAYkrFUPlxK1HTSLah82OJ95jTB4gUwKjBA=s64",
      "userId": "14338322890746261609"
     },
     "user_tz": 240
    },
    "id": "mRMKj8UTSlYp",
    "outputId": "6cc1a2c0-9557-4ee4-ea5b-7d4dd3ff0aad"
   },
   "outputs": [],
   "source": [
    "study"
   ]
  },
  {
   "cell_type": "code",
   "execution_count": null,
   "metadata": {
    "colab": {
     "base_uri": "https://localhost:8080/",
     "height": 87
    },
    "colab_type": "code",
    "executionInfo": {
     "elapsed": 5873,
     "status": "ok",
     "timestamp": 1585700042884,
     "user": {
      "displayName": "Amy",
      "photoUrl": "https://lh3.googleusercontent.com/a-/AOh14Gg57z5vAYkrFUPlxK1HTSLah82OJ95jTB4gUwKjBA=s64",
      "userId": "14338322890746261609"
     },
     "user_tz": 240
    },
    "id": "dxXFsvyeSiGt",
    "outputId": "2d38ea78-d081-42fd-eba4-70c040e7d4f9"
   },
   "outputs": [],
   "source": [
    "crushes = study_data(study)\n",
    "crushes = modify(crushes)\n",
    "crushes = calculate(crushes)"
   ]
  },
  {
   "cell_type": "code",
   "execution_count": null,
   "metadata": {
    "colab": {},
    "colab_type": "code",
    "id": "vCCfKk4XPKZ4"
   },
   "outputs": [],
   "source": [
    "_ = preprocess(crushes, targets)\n",
    "c = binary_classes(crushes, drop_cols=False)"
   ]
  },
  {
   "cell_type": "markdown",
   "metadata": {
    "colab_type": "text",
    "id": "13K8rB4sPKZ7"
   },
   "source": [
    "Prepare graphs needed for paper."
   ]
  },
  {
   "cell_type": "code",
   "execution_count": null,
   "metadata": {
    "colab": {
     "base_uri": "https://localhost:8080/",
     "height": 354
    },
    "colab_type": "code",
    "executionInfo": {
     "elapsed": 6593,
     "status": "ok",
     "timestamp": 1585700043755,
     "user": {
      "displayName": "Amy",
      "photoUrl": "https://lh3.googleusercontent.com/a-/AOh14Gg57z5vAYkrFUPlxK1HTSLah82OJ95jTB4gUwKjBA=s64",
      "userId": "14338322890746261609"
     },
     "user_tz": 240
    },
    "id": "Oh0EPEOhPKZ7",
    "outputId": "27884343-3763-4da8-890d-a6d45c04a42e"
   },
   "outputs": [],
   "source": [
    "c.describe()"
   ]
  },
  {
   "cell_type": "markdown",
   "metadata": {
    "colab_type": "text",
    "id": "VqtYV0GBPKZ-"
   },
   "source": [
    "All patients will be considered. All protocols should be STOP only."
   ]
  },
  {
   "cell_type": "code",
   "execution_count": null,
   "metadata": {
    "colab": {
     "base_uri": "https://localhost:8080/",
     "height": 50
    },
    "colab_type": "code",
    "executionInfo": {
     "elapsed": 6548,
     "status": "ok",
     "timestamp": 1585700043757,
     "user": {
      "displayName": "Amy",
      "photoUrl": "https://lh3.googleusercontent.com/a-/AOh14Gg57z5vAYkrFUPlxK1HTSLah82OJ95jTB4gUwKjBA=s64",
      "userId": "14338322890746261609"
     },
     "user_tz": 240
    },
    "id": "VAgDmPmZPKZ_",
    "outputId": "41f77562-6de0-48f9-90c1-732b04c06d1f"
   },
   "outputs": [],
   "source": [
    "print(c['Patient'].unique())"
   ]
  },
  {
   "cell_type": "code",
   "execution_count": null,
   "metadata": {
    "colab": {
     "base_uri": "https://localhost:8080/",
     "height": 34
    },
    "colab_type": "code",
    "executionInfo": {
     "elapsed": 6651,
     "status": "ok",
     "timestamp": 1585700043890,
     "user": {
      "displayName": "Amy",
      "photoUrl": "https://lh3.googleusercontent.com/a-/AOh14Gg57z5vAYkrFUPlxK1HTSLah82OJ95jTB4gUwKjBA=s64",
      "userId": "14338322890746261609"
     },
     "user_tz": 240
    },
    "id": "G7z4YEI9PKaD",
    "outputId": "9a1f9d85-9599-4a96-e754-d35d7d347ace"
   },
   "outputs": [],
   "source": [
    "print(c['Protocol'].unique())"
   ]
  },
  {
   "cell_type": "code",
   "execution_count": null,
   "metadata": {
    "colab": {},
    "colab_type": "code",
    "id": "mBUT1WDNPKaG"
   },
   "outputs": [],
   "source": [
    "# Convenience functions\n",
    "def patient(patient):\n",
    "    return c.loc[c['Patient'] == patient.upper(), :]\n",
    "\n",
    "def tissue(tissue):\n",
    "    return c.loc[c['Tissue'] == tissue.upper(), :]\n",
    "\n",
    "def protocol(protocol):\n",
    "    return c.loc[c['Protocol'] == protocol.upper(), :]\n",
    "\n",
    "def load(load):\n",
    "    return c.loc[c['Load'] == load.lower(), :]"
   ]
  },
  {
   "cell_type": "code",
   "execution_count": null,
   "metadata": {
    "colab": {
     "base_uri": "https://localhost:8080/",
     "height": 34
    },
    "colab_type": "code",
    "executionInfo": {
     "elapsed": 6601,
     "status": "ok",
     "timestamp": 1585700043892,
     "user": {
      "displayName": "Amy",
      "photoUrl": "https://lh3.googleusercontent.com/a-/AOh14Gg57z5vAYkrFUPlxK1HTSLah82OJ95jTB4gUwKjBA=s64",
      "userId": "14338322890746261609"
     },
     "user_tz": 240
    },
    "id": "AQCO63TqPKaI",
    "outputId": "e53434e4-024f-4751-be9e-8ea7422b30cf"
   },
   "outputs": [],
   "source": [
    "sb = tissue('sb')\n",
    "sb.shape"
   ]
  },
  {
   "cell_type": "code",
   "execution_count": null,
   "metadata": {
    "colab": {
     "base_uri": "https://localhost:8080/",
     "height": 34
    },
    "colab_type": "code",
    "executionInfo": {
     "elapsed": 6576,
     "status": "ok",
     "timestamp": 1585700043893,
     "user": {
      "displayName": "Amy",
      "photoUrl": "https://lh3.googleusercontent.com/a-/AOh14Gg57z5vAYkrFUPlxK1HTSLah82OJ95jTB4gUwKjBA=s64",
      "userId": "14338322890746261609"
     },
     "user_tz": 240
    },
    "id": "RHaZ_FLVPKaL",
    "outputId": "c5c54ce9-346f-4e90-f30a-50526a17c2ac"
   },
   "outputs": [],
   "source": [
    "colon = tissue('colon')\n",
    "colon.shape"
   ]
  },
  {
   "cell_type": "markdown",
   "metadata": {
    "colab_type": "text",
    "id": "kEOLJt4dPKaP"
   },
   "source": [
    "# COLON PERCENTAGE PLOT"
   ]
  },
  {
   "cell_type": "code",
   "execution_count": null,
   "metadata": {
    "colab": {
     "base_uri": "https://localhost:8080/",
     "height": 225
    },
    "colab_type": "code",
    "executionInfo": {
     "elapsed": 6515,
     "status": "ok",
     "timestamp": 1585700043894,
     "user": {
      "displayName": "Amy",
      "photoUrl": "https://lh3.googleusercontent.com/a-/AOh14Gg57z5vAYkrFUPlxK1HTSLah82OJ95jTB4gUwKjBA=s64",
      "userId": "14338322890746261609"
     },
     "user_tz": 240
    },
    "id": "lTzRigJvPKaQ",
    "outputId": "fda76ff8-dd04-41bf-811b-a84fe2998a74"
   },
   "outputs": [],
   "source": [
    "damage = colon['Trauma Score']\n",
    "colon_dam = pd.DataFrame({'No Damage': (damage == 0),\n",
    "                          'Minor Damage': (damage == 1),\n",
    "                          'Major Damage': (damage == 2)})\n",
    "colon_dam = pd.concat([colon_dam, colon['Load (g)']], axis=1)\n",
    "colon_dam.head()"
   ]
  },
  {
   "cell_type": "code",
   "execution_count": null,
   "metadata": {
    "colab": {
     "base_uri": "https://localhost:8080/",
     "height": 225
    },
    "colab_type": "code",
    "executionInfo": {
     "elapsed": 6704,
     "status": "ok",
     "timestamp": 1585700044116,
     "user": {
      "displayName": "Amy",
      "photoUrl": "https://lh3.googleusercontent.com/a-/AOh14Gg57z5vAYkrFUPlxK1HTSLah82OJ95jTB4gUwKjBA=s64",
      "userId": "14338322890746261609"
     },
     "user_tz": 240
    },
    "id": "j4XZp-15PKaT",
    "outputId": "f3e84d62-9844-408e-dbf8-e66ffc685430"
   },
   "outputs": [],
   "source": [
    "group = colon_dam.groupby('Load (g)').sum()\n",
    "group['Count'] = group.sum(axis=1)\n",
    "group = group.reset_index()\n",
    "group"
   ]
  },
  {
   "cell_type": "code",
   "execution_count": null,
   "metadata": {
    "colab": {
     "base_uri": "https://localhost:8080/",
     "height": 225
    },
    "colab_type": "code",
    "executionInfo": {
     "elapsed": 6649,
     "status": "ok",
     "timestamp": 1585700044117,
     "user": {
      "displayName": "Amy",
      "photoUrl": "https://lh3.googleusercontent.com/a-/AOh14Gg57z5vAYkrFUPlxK1HTSLah82OJ95jTB4gUwKjBA=s64",
      "userId": "14338322890746261609"
     },
     "user_tz": 240
    },
    "id": "fOCqbrDKPKaX",
    "outputId": "7a889c3e-8d97-4cb7-eace-cf7212d60caf"
   },
   "outputs": [],
   "source": [
    "damage_types = ['No Damage', 'Minor Damage', 'Major Damage']\n",
    "for damage in damage_types:\n",
    "    group[damage] = group[damage] / group['Count']\n",
    "group"
   ]
  },
  {
   "cell_type": "code",
   "execution_count": null,
   "metadata": {
    "colab": {},
    "colab_type": "code",
    "id": "u4_6akn2PKaa"
   },
   "outputs": [],
   "source": [
    "from matplotlib.colors import ListedColormap"
   ]
  },
  {
   "cell_type": "code",
   "execution_count": null,
   "metadata": {
    "colab": {
     "base_uri": "https://localhost:8080/",
     "height": 1000
    },
    "colab_type": "code",
    "executionInfo": {
     "elapsed": 8017,
     "status": "ok",
     "timestamp": 1585700045569,
     "user": {
      "displayName": "Amy",
      "photoUrl": "https://lh3.googleusercontent.com/a-/AOh14Gg57z5vAYkrFUPlxK1HTSLah82OJ95jTB4gUwKjBA=s64",
      "userId": "14338322890746261609"
     },
     "user_tz": 240
    },
    "id": "o6B8cPLePKac",
    "outputId": "a1e69470-d1e6-4013-882b-0887da863285"
   },
   "outputs": [],
   "source": [
    "colors = ListedColormap(['blue', 'orange', 'red'])\n",
    "width = 50\n",
    "\n",
    "for i, damage in enumerate(damage_types):\n",
    "    plt.figure()\n",
    "    plt.bar(x=group['Load (g)'], height=group[damage], width=width, label=damage, color=colors(i))\n",
    "    plt.legend()\n",
    "    plt.ylabel('Percentage of Samples')\n",
    "    plt.xlabel('Load (g)')\n",
    "    plt.ylim(0, 1)\n",
    "    ax = plt.gca()\n",
    "    ticks = ax.get_yticks()\n",
    "    ax.set_yticklabels(['{:.0%}'.format(x) for x in ticks])"
   ]
  },
  {
   "cell_type": "code",
   "execution_count": null,
   "metadata": {
    "colab": {
     "base_uri": "https://localhost:8080/",
     "height": 576
    },
    "colab_type": "code",
    "executionInfo": {
     "elapsed": 8468,
     "status": "ok",
     "timestamp": 1585700046054,
     "user": {
      "displayName": "Amy",
      "photoUrl": "https://lh3.googleusercontent.com/a-/AOh14Gg57z5vAYkrFUPlxK1HTSLah82OJ95jTB4gUwKjBA=s64",
      "userId": "14338322890746261609"
     },
     "user_tz": 240
    },
    "id": "OnVp0b0VPKaf",
    "outputId": "546c20d8-b43b-4bca-efd7-bba9633f14cf"
   },
   "outputs": [],
   "source": [
    "colors = ListedColormap(['blue', 'orange', 'red'])\n",
    "width = 50\n",
    "shift = [-width, 0, width]\n",
    "plt.figure()\n",
    "for i, damage in enumerate(damage_types): \n",
    "    if i == 0:\n",
    "        continue\n",
    "    x_val = group['Load (g)'] + shift[i]\n",
    "    plt.bar(x=x_val, height=group[damage], width=width, label=damage, color=colors(i))\n",
    "plt.legend()\n",
    "plt.ylabel('Percentage of Samples')\n",
    "plt.xlabel('Load (g)')\n",
    "plt.ylim(0, 1)\n",
    "ax = plt.gca()\n",
    "ticks = ax.get_yticks()\n",
    "_ = ax.set_yticklabels(['{:.0%}'.format(x) for x in ticks])"
   ]
  },
  {
   "cell_type": "code",
   "execution_count": null,
   "metadata": {
    "colab": {},
    "colab_type": "code",
    "id": "TM-5u_xlPKai"
   },
   "outputs": [],
   "source": [
    "nice_colors = ListedColormap(['#b30000', '#f26a26', '#ffeda0'])"
   ]
  },
  {
   "cell_type": "code",
   "execution_count": null,
   "metadata": {
    "colab": {
     "base_uri": "https://localhost:8080/",
     "height": 34
    },
    "colab_type": "code",
    "executionInfo": {
     "elapsed": 8419,
     "status": "ok",
     "timestamp": 1585700046057,
     "user": {
      "displayName": "Amy",
      "photoUrl": "https://lh3.googleusercontent.com/a-/AOh14Gg57z5vAYkrFUPlxK1HTSLah82OJ95jTB4gUwKjBA=s64",
      "userId": "14338322890746261609"
     },
     "user_tz": 240
    },
    "id": "bui9y0BqPKal",
    "outputId": "47584ada-2bdf-4189-b0bb-0a30f6a62974"
   },
   "outputs": [],
   "source": [
    "def disp_stress(x):\n",
    "    return np.round(9.81 * x.values / (np.pi * ((5/2) ** 2)), 0)\n",
    "disp_stress(group['Load (g)'])"
   ]
  },
  {
   "cell_type": "code",
   "execution_count": null,
   "metadata": {
    "colab": {},
    "colab_type": "code",
    "id": "m5rWtDiYPKan"
   },
   "outputs": [],
   "source": [
    "width = 50"
   ]
  },
  {
   "cell_type": "code",
   "execution_count": null,
   "metadata": {
    "colab": {
     "base_uri": "https://localhost:8080/",
     "height": 596
    },
    "colab_type": "code",
    "executionInfo": {
     "elapsed": 9020,
     "status": "ok",
     "timestamp": 1585700046700,
     "user": {
      "displayName": "Amy",
      "photoUrl": "https://lh3.googleusercontent.com/a-/AOh14Gg57z5vAYkrFUPlxK1HTSLah82OJ95jTB4gUwKjBA=s64",
      "userId": "14338322890746261609"
     },
     "user_tz": 240
    },
    "id": "ruetW4zBPKap",
    "outputId": "a5d2c4ad-a679-4bf8-c11f-5abe30100d0e"
   },
   "outputs": [],
   "source": [
    "plt.figure()\n",
    "types = list(reversed(damage_types))\n",
    "for i, damage in enumerate(types):\n",
    "    inputs = {'x': disp_stress(group['Load (g)']),\n",
    "              'height': group[damage],\n",
    "              'width': width,\n",
    "              'label': damage + f' [{2 - i}]',\n",
    "              'color': nice_colors(i)}\n",
    "    if i == 1:\n",
    "        bottom = group[types[i - 1]]\n",
    "        inputs['bottom'] = bottom\n",
    "    if i > 1:\n",
    "        bottom = bottom + group[types[i - 1]]\n",
    "        inputs['bottom'] = bottom\n",
    "    plt.bar(**inputs)\n",
    "plt.title('Trauma Score - Colon', size=10, weight='bold')\n",
    "plt.ylabel('Percentage of Samples')\n",
    "plt.xlabel('Pressure (kPa)')\n",
    "plt.ylim(0, 1)\n",
    "ax = plt.gca()\n",
    "ticks = ax.get_yticks()\n",
    "_ = ax.set_yticklabels(['{:.0%}'.format(x) for x in ticks])"
   ]
  },
  {
   "cell_type": "code",
   "execution_count": null,
   "metadata": {},
   "outputs": [],
   "source": [
    "colon.columns"
   ]
  },
  {
   "cell_type": "code",
   "execution_count": null,
   "metadata": {
    "colab": {},
    "colab_type": "code",
    "id": "Y_TP9rvWPKas"
   },
   "outputs": [],
   "source": [
    "# Same for serosal thickness change\n",
    "delta = colon['Significant Serosa Change']\n",
    "colon_del = pd.DataFrame({'No Change': (delta == False),\n",
    "                          'Significant Change': (delta == True)})\n",
    "colon_del = pd.concat([colon_del, colon['Load (g)']], axis=1)"
   ]
  },
  {
   "cell_type": "code",
   "execution_count": null,
   "metadata": {
    "colab": {},
    "colab_type": "code",
    "id": "x2QPV1BpPKau"
   },
   "outputs": [],
   "source": [
    "group = colon_del.groupby('Load (g)').sum()\n",
    "group['Count'] = group.sum(axis=1)\n",
    "group = group.reset_index()"
   ]
  },
  {
   "cell_type": "code",
   "execution_count": null,
   "metadata": {
    "colab": {},
    "colab_type": "code",
    "id": "UWKER_OBPKaw"
   },
   "outputs": [],
   "source": [
    "ser_colors = ListedColormap(['#0099cc', '#b3ecff'])"
   ]
  },
  {
   "cell_type": "code",
   "execution_count": null,
   "metadata": {
    "colab": {
     "base_uri": "https://localhost:8080/",
     "height": 596
    },
    "colab_type": "code",
    "executionInfo": {
     "elapsed": 9332,
     "status": "ok",
     "timestamp": 1585700047348,
     "user": {
      "displayName": "Amy",
      "photoUrl": "https://lh3.googleusercontent.com/a-/AOh14Gg57z5vAYkrFUPlxK1HTSLah82OJ95jTB4gUwKjBA=s64",
      "userId": "14338322890746261609"
     },
     "user_tz": 240
    },
    "id": "LO5OZXp9PKaz",
    "outputId": "d50e5028-652b-491c-f128-156eb543dfdc"
   },
   "outputs": [],
   "source": [
    "delta_types = ['No Change', 'Significant Change']\n",
    "for delta in delta_types:\n",
    "    group[delta] = group[delta] / group['Count']\n",
    "types = list(reversed(delta_types))\n",
    "\n",
    "plt.figure()\n",
    "for i, damage in enumerate(types):\n",
    "    inputs = {'x': disp_stress(group['Load (g)']),\n",
    "              'height': group[damage],\n",
    "              'width': width,\n",
    "              'label': damage,\n",
    "              'color': ser_colors(i)}\n",
    "    if i == 1:\n",
    "        bottom = group[types[i - 1]]\n",
    "        inputs['bottom'] = bottom\n",
    "    if i > 1:\n",
    "        bottom = bottom + group[types[i - 1]]\n",
    "        inputs['bottom'] = bottom\n",
    "    plt.bar(**inputs)\n",
    "plt.title('Serosal Thickness Change - Colon', size=10, weight='bold')\n",
    "plt.ylabel('Percentage of Samples')\n",
    "plt.xlabel('Pressure (kPa)')\n",
    "plt.ylim(0, 1)\n",
    "ax = plt.gca()\n",
    "ax.legend(loc='upper center', bbox_to_anchor=(1.4, 1.05),\n",
    "          ncol=1, fancybox=True)\n",
    "ticks = ax.get_yticks()\n",
    "_ = ax.set_yticklabels(['{:.0%}'.format(x) for x in ticks])"
   ]
  },
  {
   "cell_type": "code",
   "execution_count": null,
   "metadata": {
    "colab": {
     "base_uri": "https://localhost:8080/",
     "height": 225
    },
    "colab_type": "code",
    "executionInfo": {
     "elapsed": 9306,
     "status": "ok",
     "timestamp": 1585700047351,
     "user": {
      "displayName": "Amy",
      "photoUrl": "https://lh3.googleusercontent.com/a-/AOh14Gg57z5vAYkrFUPlxK1HTSLah82OJ95jTB4gUwKjBA=s64",
      "userId": "14338322890746261609"
     },
     "user_tz": 240
    },
    "id": "PHdA7k8zPKa-",
    "outputId": "38e028be-546e-48b9-fe9b-6a01c2b6acbf"
   },
   "outputs": [],
   "source": [
    "group"
   ]
  },
  {
   "cell_type": "markdown",
   "metadata": {
    "colab_type": "text",
    "id": "8iY7t22sPKbA"
   },
   "source": [
    "# SMALL BOWEL PERCENTAGE PLOT"
   ]
  },
  {
   "cell_type": "code",
   "execution_count": null,
   "metadata": {
    "colab": {
     "base_uri": "https://localhost:8080/",
     "height": 225
    },
    "colab_type": "code",
    "executionInfo": {
     "elapsed": 9285,
     "status": "ok",
     "timestamp": 1585700047352,
     "user": {
      "displayName": "Amy",
      "photoUrl": "https://lh3.googleusercontent.com/a-/AOh14Gg57z5vAYkrFUPlxK1HTSLah82OJ95jTB4gUwKjBA=s64",
      "userId": "14338322890746261609"
     },
     "user_tz": 240
    },
    "id": "aAMxX0eKPKbB",
    "outputId": "7676b5f0-06c9-4d11-b4d1-a84e51c7e986"
   },
   "outputs": [],
   "source": [
    "damage = sb['Trauma Score']\n",
    "sb_dam = pd.DataFrame({'Trauma Score 0': (damage == 0),\n",
    "                       'Trauma Score 1': (damage == 1),\n",
    "                       'Trauma Score 2': (damage == 2)})\n",
    "sb_dam = pd.concat([sb_dam, sb['Load (g)']], axis=1)\n",
    "sb_dam.head()"
   ]
  },
  {
   "cell_type": "code",
   "execution_count": null,
   "metadata": {
    "colab": {
     "base_uri": "https://localhost:8080/",
     "height": 225
    },
    "colab_type": "code",
    "executionInfo": {
     "elapsed": 9263,
     "status": "ok",
     "timestamp": 1585700047353,
     "user": {
      "displayName": "Amy",
      "photoUrl": "https://lh3.googleusercontent.com/a-/AOh14Gg57z5vAYkrFUPlxK1HTSLah82OJ95jTB4gUwKjBA=s64",
      "userId": "14338322890746261609"
     },
     "user_tz": 240
    },
    "id": "hMTe9jMtPKbD",
    "outputId": "e7edb79b-590b-4f20-ab66-044208dc7099"
   },
   "outputs": [],
   "source": [
    "group = sb_dam.groupby('Load (g)').sum()\n",
    "group['Count'] = group.sum(axis=1)\n",
    "group = group.reset_index()\n",
    "group"
   ]
  },
  {
   "cell_type": "code",
   "execution_count": null,
   "metadata": {
    "colab": {
     "base_uri": "https://localhost:8080/",
     "height": 225
    },
    "colab_type": "code",
    "executionInfo": {
     "elapsed": 9243,
     "status": "ok",
     "timestamp": 1585700047354,
     "user": {
      "displayName": "Amy",
      "photoUrl": "https://lh3.googleusercontent.com/a-/AOh14Gg57z5vAYkrFUPlxK1HTSLah82OJ95jTB4gUwKjBA=s64",
      "userId": "14338322890746261609"
     },
     "user_tz": 240
    },
    "id": "5IJv81zrPKbF",
    "outputId": "1a75cf49-ea6f-4df7-ed22-895932bb7131"
   },
   "outputs": [],
   "source": [
    "damage_types = ['Trauma Score 0', 'Trauma Score 1', 'Trauma Score 2']\n",
    "for damage in damage_types:\n",
    "    group[damage] = group[damage] / group['Count']\n",
    "group"
   ]
  },
  {
   "cell_type": "code",
   "execution_count": null,
   "metadata": {
    "colab": {
     "base_uri": "https://localhost:8080/",
     "height": 613
    },
    "colab_type": "code",
    "executionInfo": {
     "elapsed": 1031,
     "status": "ok",
     "timestamp": 1585700072620,
     "user": {
      "displayName": "Amy",
      "photoUrl": "https://lh3.googleusercontent.com/a-/AOh14Gg57z5vAYkrFUPlxK1HTSLah82OJ95jTB4gUwKjBA=s64",
      "userId": "14338322890746261609"
     },
     "user_tz": 240
    },
    "id": "sPIsgN3uPKbI",
    "outputId": "662319c8-d6c4-49b3-ea40-b5a6e085fc26"
   },
   "outputs": [],
   "source": [
    "plt.figure()\n",
    "types = list(reversed(damage_types))\n",
    "for i, damage in enumerate(types):\n",
    "    inputs = {'x': disp_stress(group['Load (g)']),\n",
    "              'height': group[damage],\n",
    "              'width': width,\n",
    "              'label': damage,\n",
    "              'color': nice_colors(i)}\n",
    "    if i == 1:\n",
    "        bottom = group[types[i - 1]]\n",
    "        inputs['bottom'] = bottom\n",
    "    if i > 1:\n",
    "        bottom = bottom + group[types[i - 1]]\n",
    "        inputs['bottom'] = bottom\n",
    "    plt.bar(**inputs)\n",
    "plt.title('Trauma Score - Small Bowel', size=10, weight='bold')\n",
    "plt.ylabel('Percentage of Samples')\n",
    "plt.xlabel('Pressure (kPa)')\n",
    "plt.ylim(0, 1)\n",
    "ax = plt.gca()\n",
    "ax.legend(loc='upper center', bbox_to_anchor=(1.4, 1.05),\n",
    "          ncol=1, fancybox=True)\n",
    "ticks = ax.get_yticks()\n",
    "_ = ax.set_yticklabels(['{:.0%}'.format(x) for x in ticks])"
   ]
  },
  {
   "cell_type": "code",
   "execution_count": null,
   "metadata": {
    "colab": {},
    "colab_type": "code",
    "id": "U2hAhFFiPKbK"
   },
   "outputs": [],
   "source": [
    "# Same for serosal thickness change\n",
    "delta = sb['Significant Serosa Change']\n",
    "sb_del = pd.DataFrame({'No Change': (delta == False),\n",
    "                       'Significant Change': (delta == True)})\n",
    "sb_del = pd.concat([sb_del, sb['Load (g)']], axis=1)\n",
    "group = sb_del.groupby('Load (g)').sum()\n",
    "group['Count'] = group.sum(axis=1)\n",
    "group = group.reset_index()"
   ]
  },
  {
   "cell_type": "code",
   "execution_count": null,
   "metadata": {
    "colab": {},
    "colab_type": "code",
    "id": "wImtDRm0au0R"
   },
   "outputs": [],
   "source": [
    "Amycolor = ListedColormap(['#4d0099', '#e5ccff'])"
   ]
  },
  {
   "cell_type": "code",
   "execution_count": null,
   "metadata": {
    "colab": {
     "base_uri": "https://localhost:8080/",
     "height": 596
    },
    "colab_type": "code",
    "executionInfo": {
     "elapsed": 10840,
     "status": "ok",
     "timestamp": 1585699431935,
     "user": {
      "displayName": "Amy",
      "photoUrl": "https://lh3.googleusercontent.com/a-/AOh14Gg57z5vAYkrFUPlxK1HTSLah82OJ95jTB4gUwKjBA=s64",
      "userId": "14338322890746261609"
     },
     "user_tz": 240
    },
    "id": "d8tEdoG0PKbN",
    "outputId": "2552e9c2-e822-461e-ba7e-f6edfd892cba"
   },
   "outputs": [],
   "source": [
    "delta_types = ['No Change', 'Significant Change']\n",
    "for delta in delta_types:\n",
    "    group[delta] = group[delta] / group['Count']\n",
    "types = list(reversed(delta_types))\n",
    "\n",
    "plt.figure()\n",
    "for i, damage in enumerate(types):\n",
    "    inputs = {'x': disp_stress(group['Load (g)']),\n",
    "              'height': group[damage],\n",
    "              'width': width,\n",
    "              'label': damage,\n",
    "              'color': Amycolor(i)}\n",
    "    if i == 1:\n",
    "        bottom = group[types[i - 1]]\n",
    "        inputs['bottom'] = bottom\n",
    "    if i > 1:\n",
    "        bottom = bottom + group[types[i - 1]]\n",
    "        inputs['bottom'] = bottom\n",
    "    plt.bar(**inputs)\n",
    "plt.title('Serosal Thickness Change - Small Bowel', size=10, weight='bold')\n",
    "plt.ylabel('Percentage of Samples')\n",
    "plt.xlabel('Pressure (kPa)')\n",
    "plt.ylim(0, 1)\n",
    "ax = plt.gca()\n",
    "ticks = ax.get_yticks()\n",
    "_ = ax.set_yticklabels(['{:.0%}'.format(x) for x in ticks])"
   ]
  },
  {
   "cell_type": "code",
   "execution_count": null,
   "metadata": {},
   "outputs": [],
   "source": [
    "group"
   ]
  },
  {
   "cell_type": "markdown",
   "metadata": {
    "colab_type": "text",
    "id": "gvoKgFc_PKbS"
   },
   "source": [
    "# Trauma Score Cumulative Plot"
   ]
  },
  {
   "cell_type": "code",
   "execution_count": null,
   "metadata": {
    "colab": {},
    "colab_type": "code",
    "id": "AMFyE4T9PKba"
   },
   "outputs": [],
   "source": [
    "tissue_colors = ListedColormap(['#4d0099', '#0099cc'])"
   ]
  },
  {
   "cell_type": "code",
   "execution_count": null,
   "metadata": {},
   "outputs": [],
   "source": [
    "sb_dam.groupby('Load (g)').sum()"
   ]
  },
  {
   "cell_type": "code",
   "execution_count": null,
   "metadata": {},
   "outputs": [],
   "source": [
    "colon_dam.groupby('Load (g)').sum()"
   ]
  },
  {
   "cell_type": "code",
   "execution_count": null,
   "metadata": {},
   "outputs": [],
   "source": [
    "group = colon_dam.groupby('Load (g)').sum()\n",
    "colon_damage_cnt = group[['Minor Damage', 'Major Damage']].sum(axis=1)\n",
    "\n",
    "group = sb_dam.groupby('Load (g)').sum()\n",
    "sb_damage_cnt = group[['Minor Damage', 'Major Damage']].sum(axis=1)\n",
    "\n",
    "group = group.drop(group.columns, axis=1)\n",
    "group['Colon Damage Count'] = colon_damage_cnt\n",
    "group['Small Bowel Damage Count'] = sb_damage_cnt\n",
    "group = group.reset_index()\n",
    "group"
   ]
  },
  {
   "cell_type": "code",
   "execution_count": null,
   "metadata": {
    "colab": {
     "base_uri": "https://localhost:8080/",
     "height": 596
    },
    "colab_type": "code",
    "executionInfo": {
     "elapsed": 11489,
     "status": "ok",
     "timestamp": 1585699432752,
     "user": {
      "displayName": "Amy",
      "photoUrl": "https://lh3.googleusercontent.com/a-/AOh14Gg57z5vAYkrFUPlxK1HTSLah82OJ95jTB4gUwKjBA=s64",
      "userId": "14338322890746261609"
     },
     "user_tz": 240
    },
    "id": "uGlKw_ASPKbd",
    "outputId": "580b4f1a-35a8-484e-a0b4-2c0e6e20e589"
   },
   "outputs": [],
   "source": [
    "types = ['Colon Damage Count', 'Small Bowel Damage Count']\n",
    "\n",
    "plt.figure()\n",
    "for i, typ in enumerate(types):\n",
    "    inputs = {'x': disp_stress(group['Load (g)']),\n",
    "              'y': group[typ].abs(),\n",
    "              'color': tissue_colors(i)}\n",
    "    plt.plot(inputs['x'], inputs['y'], color=inputs['color'], linewidth=4, alpha=0.8)\n",
    "\n",
    "plt.title('Positive Trauma Score', size=10, weight='bold')\n",
    "plt.ylabel('Number of Patients')\n",
    "plt.xlabel('Pressure (kPa)')\n",
    "plt.ylim(0, 12)\n",
    "ax = plt.gca()\n",
    "ax.legend(loc='upper center', bbox_to_anchor=(1.4, 1.05),\n",
    "          ncol=1, fancybox=True);"
   ]
  },
  {
   "cell_type": "markdown",
   "metadata": {
    "colab_type": "text",
    "id": "gvoKgFc_PKbS"
   },
   "source": [
    "# Tissue Average Serosal Thickness Plot"
   ]
  },
  {
   "cell_type": "code",
   "execution_count": null,
   "metadata": {
    "colab": {
     "base_uri": "https://localhost:8080/",
     "height": 254
    },
    "colab_type": "code",
    "executionInfo": {
     "elapsed": 10818,
     "status": "ok",
     "timestamp": 1585699431936,
     "user": {
      "displayName": "Amy",
      "photoUrl": "https://lh3.googleusercontent.com/a-/AOh14Gg57z5vAYkrFUPlxK1HTSLah82OJ95jTB4gUwKjBA=s64",
      "userId": "14338322890746261609"
     },
     "user_tz": 240
    },
    "id": "kCE_zq_XPKbS",
    "outputId": "7cff4c49-31ec-43d4-e986-8fd4291536ce"
   },
   "outputs": [],
   "source": [
    "t_pre = colon['Serosa Thickness (mm)']\n",
    "t_post = colon['Post Serosa Thickness (mm)']\n",
    "perc_delta = (t_post - t_pre) / t_pre\n",
    "colon_thickness = pd.DataFrame({'Percent Delta (COLON)': perc_delta,\n",
    "                                'Load (g)': colon['Load (g)']})\n",
    "colon_thickness = colon_thickness.groupby('Load (g)').mean()\n",
    "colon_thickness"
   ]
  },
  {
   "cell_type": "code",
   "execution_count": null,
   "metadata": {
    "colab": {
     "base_uri": "https://localhost:8080/",
     "height": 254
    },
    "colab_type": "code",
    "executionInfo": {
     "elapsed": 10799,
     "status": "ok",
     "timestamp": 1585699431937,
     "user": {
      "displayName": "Amy",
      "photoUrl": "https://lh3.googleusercontent.com/a-/AOh14Gg57z5vAYkrFUPlxK1HTSLah82OJ95jTB4gUwKjBA=s64",
      "userId": "14338322890746261609"
     },
     "user_tz": 240
    },
    "id": "9cV87c9LPKbU",
    "outputId": "6bb5e377-8e66-4297-853a-35cf069aef45"
   },
   "outputs": [],
   "source": [
    "t_pre = sb['Serosa Thickness (mm)']\n",
    "t_post = sb['Post Serosa Thickness (mm)']\n",
    "perc_delta = (t_post - t_pre) / t_pre\n",
    "sb_thickness = pd.DataFrame({'Percent Delta (SB)': perc_delta,\n",
    "                             'Load (g)': sb['Load (g)']})\n",
    "sb_thickness = sb_thickness.groupby('Load (g)').mean()\n",
    "sb_thickness"
   ]
  },
  {
   "cell_type": "code",
   "execution_count": null,
   "metadata": {
    "colab": {
     "base_uri": "https://localhost:8080/",
     "height": 225
    },
    "colab_type": "code",
    "executionInfo": {
     "elapsed": 10757,
     "status": "ok",
     "timestamp": 1585699431939,
     "user": {
      "displayName": "Amy",
      "photoUrl": "https://lh3.googleusercontent.com/a-/AOh14Gg57z5vAYkrFUPlxK1HTSLah82OJ95jTB4gUwKjBA=s64",
      "userId": "14338322890746261609"
     },
     "user_tz": 240
    },
    "id": "ikmWNVJGPKbX",
    "outputId": "8d53b014-3f82-4564-a8dd-5a5c0c6859f1"
   },
   "outputs": [],
   "source": [
    "group = pd.concat([sb_thickness, colon_thickness], axis=1)\n",
    "group = group.reset_index()\n",
    "group"
   ]
  },
  {
   "cell_type": "code",
   "execution_count": null,
   "metadata": {
    "colab": {
     "base_uri": "https://localhost:8080/",
     "height": 596
    },
    "colab_type": "code",
    "executionInfo": {
     "elapsed": 11489,
     "status": "ok",
     "timestamp": 1585699432752,
     "user": {
      "displayName": "Amy",
      "photoUrl": "https://lh3.googleusercontent.com/a-/AOh14Gg57z5vAYkrFUPlxK1HTSLah82OJ95jTB4gUwKjBA=s64",
      "userId": "14338322890746261609"
     },
     "user_tz": 240
    },
    "id": "uGlKw_ASPKbd",
    "outputId": "580b4f1a-35a8-484e-a0b4-2c0e6e20e589"
   },
   "outputs": [],
   "source": [
    "types = ['Percent Delta (SB)', 'Percent Delta (COLON)']\n",
    "labels = ['Small Bowel', 'Colon']\n",
    "width = 40\n",
    "shift = [-20, 20]\n",
    "plt.figure()\n",
    "for i, typ in enumerate(types):\n",
    "    inputs = {'x': disp_stress(group['Load (g)'])  + shift[i],\n",
    "              'height': group[typ].abs(),\n",
    "              'width': width,\n",
    "              'label': labels[i],\n",
    "              'color': tissue_colors(i)}\n",
    "    plt.bar(**inputs)\n",
    "plt.title('Serosal Thickness Percent Deformation', size=10, weight='bold')\n",
    "plt.ylabel('Percent Deformation')\n",
    "plt.xlabel('Pressure (kPa)')\n",
    "plt.ylim(0, 0.6)\n",
    "ax = plt.gca()\n",
    "ax.legend(loc='upper center', bbox_to_anchor=(1.4, 1.05),\n",
    "          ncol=1, fancybox=True)\n",
    "ticks = ax.get_yticks()\n",
    "_ = ax.set_yticklabels(['-{:.0%}'.format(x) for x in ticks])"
   ]
  },
  {
   "cell_type": "code",
   "execution_count": null,
   "metadata": {
    "colab": {
     "base_uri": "https://localhost:8080/",
     "height": 596
    },
    "colab_type": "code",
    "executionInfo": {
     "elapsed": 11489,
     "status": "ok",
     "timestamp": 1585699432752,
     "user": {
      "displayName": "Amy",
      "photoUrl": "https://lh3.googleusercontent.com/a-/AOh14Gg57z5vAYkrFUPlxK1HTSLah82OJ95jTB4gUwKjBA=s64",
      "userId": "14338322890746261609"
     },
     "user_tz": 240
    },
    "id": "uGlKw_ASPKbd",
    "outputId": "580b4f1a-35a8-484e-a0b4-2c0e6e20e589"
   },
   "outputs": [],
   "source": [
    "types = ['Percent Delta (SB)', 'Percent Delta (COLON)']\n",
    "\n",
    "plt.figure()\n",
    "for i, typ in enumerate(types):\n",
    "    inputs = {'x': disp_stress(group['Load (g)']),\n",
    "              'y': group[typ].abs(),\n",
    "              'color': tissue_colors(i)}\n",
    "    plt.plot(inputs['x'], inputs['y'], color=inputs['color'], linewidth=4, alpha=0.8)\n",
    "\n",
    "plt.title('Serosal Thickness Percent Deformation', size=10, weight='bold')\n",
    "plt.ylabel('Percent Deformation')\n",
    "plt.xlabel('Pressure (kPa)')\n",
    "plt.ylim(0, 0.6)\n",
    "ax = plt.gca()\n",
    "ax.legend(loc='upper center', bbox_to_anchor=(1.4, 1.05),\n",
    "          ncol=1, fancybox=True)\n",
    "ticks = ax.get_yticks()\n",
    "_ = ax.set_yticklabels(['-{:.0%}'.format(x) for x in ticks])"
   ]
  },
  {
   "cell_type": "code",
   "execution_count": null,
   "metadata": {},
   "outputs": [],
   "source": [
    "group"
   ]
  },
  {
   "cell_type": "markdown",
   "metadata": {
    "colab_type": "text",
    "id": "tH84v8SjPKbf"
   },
   "source": [
    "# Patient Plots"
   ]
  },
  {
   "cell_type": "code",
   "execution_count": null,
   "metadata": {
    "colab": {},
    "colab_type": "code",
    "id": "nSHWdp71PKbf"
   },
   "outputs": [],
   "source": [
    "score = pd.DataFrame({'Trauma Score': crushes['Trauma Score'],\n",
    "                      'Tissue': crushes['Tissue'],\n",
    "                      'Load (g)': crushes['Load (g)'],\n",
    "                      'Patient': crushes['Patient']})\n",
    "\n",
    "score_colon = score[score['Tissue'] == 'COLON'].groupby(['Patient', 'Tissue', 'Load (g)']).mean()\n",
    "score_sb = score[score['Tissue'] == 'SB'].groupby(['Patient', 'Tissue', 'Load (g)']).mean()"
   ]
  },
  {
   "cell_type": "code",
   "execution_count": null,
   "metadata": {
    "colab": {
     "base_uri": "https://localhost:8080/",
     "height": 431
    },
    "colab_type": "code",
    "executionInfo": {
     "elapsed": 11440,
     "status": "ok",
     "timestamp": 1585699432755,
     "user": {
      "displayName": "Amy",
      "photoUrl": "https://lh3.googleusercontent.com/a-/AOh14Gg57z5vAYkrFUPlxK1HTSLah82OJ95jTB4gUwKjBA=s64",
      "userId": "14338322890746261609"
     },
     "user_tz": 240
    },
    "id": "T3seMV7uPKbj",
    "outputId": "a5242b92-9aed-4926-e9ed-8cb4e496dbe7"
   },
   "outputs": [],
   "source": [
    "score.groupby(['Patient', 'Tissue', 'Load (g)']).mean()"
   ]
  },
  {
   "cell_type": "code",
   "execution_count": null,
   "metadata": {
    "colab": {},
    "colab_type": "code",
    "id": "ONOSCaR-PKbn"
   },
   "outputs": [],
   "source": [
    "def plot_patients(score):\n",
    "    \n",
    "    # Get list of patients\n",
    "    def str_int(s):\n",
    "        return int(s[2:])\n",
    "    patients = sorted(score.index.levels[0].unique(), key=str_int)\n",
    "    \n",
    "    # Create subplots for each patient\n",
    "    fig = plt.figure(figsize=(7, 5))\n",
    "    axes = [None] * 10\n",
    "    for i in range(len(patients)):\n",
    "        axes[i] = plt.subplot2grid((len(patients) // 2, 2), (i // 2, i % 2))\n",
    "\n",
    "    # Fill the subplots\n",
    "    labels = {'SB': 'Small Bowel', 'COLON': 'Colon'}\n",
    "    for i, pat in enumerate(patients):\n",
    "        pat_score = score.loc[pat].reset_index()\n",
    "        tissue = labels[pat_score['Tissue'].iloc[0]]\n",
    "\n",
    "        ax = axes[i]\n",
    "        inputs = {'x': disp_stress(pat_score['Load (g)']),  # + shift[i],\n",
    "                  'y': pat_score['Trauma Score'],\n",
    "                  'color': 'indigo'}\n",
    "        ax.scatter(**inputs)\n",
    "\n",
    "        ax.set_title(f'Patient {pat}', size=8)\n",
    "        ax.set_ylim(-0.5, 2.5)\n",
    "        ax.set_yticks([0, 1, 2])\n",
    "        ax.set_xlim(0, 700)\n",
    "        if i > 7:\n",
    "            ax.set_xlabel('Pressure (kPa)', size=10, fontweight='bold')\n",
    "            ax.set_xticks([100, 200, 300, 400, 500, 600])\n",
    "        else:\n",
    "            ax.set_xticklabels([])\n",
    "    fig.suptitle(f'Trauma Score - {tissue} Samples', size=10, weight='bold')\n",
    "    plt.subplots_adjust(hspace=0.5)"
   ]
  },
  {
   "cell_type": "code",
   "execution_count": null,
   "metadata": {
    "colab": {
     "base_uri": "https://localhost:8080/",
     "height": 753
    },
    "colab_type": "code",
    "executionInfo": {
     "elapsed": 12652,
     "status": "ok",
     "timestamp": 1585699433995,
     "user": {
      "displayName": "Amy",
      "photoUrl": "https://lh3.googleusercontent.com/a-/AOh14Gg57z5vAYkrFUPlxK1HTSLah82OJ95jTB4gUwKjBA=s64",
      "userId": "14338322890746261609"
     },
     "user_tz": 240
    },
    "id": "D3EJUQN6PKbq",
    "outputId": "46c5bd39-4de9-4aef-a4e0-f37daad431d0"
   },
   "outputs": [],
   "source": [
    "plot_patients(score_colon)"
   ]
  },
  {
   "cell_type": "code",
   "execution_count": null,
   "metadata": {
    "colab": {
     "base_uri": "https://localhost:8080/",
     "height": 753
    },
    "colab_type": "code",
    "executionInfo": {
     "elapsed": 13790,
     "status": "ok",
     "timestamp": 1585699435163,
     "user": {
      "displayName": "Amy",
      "photoUrl": "https://lh3.googleusercontent.com/a-/AOh14Gg57z5vAYkrFUPlxK1HTSLah82OJ95jTB4gUwKjBA=s64",
      "userId": "14338322890746261609"
     },
     "user_tz": 240
    },
    "id": "92XHJHa1PKbs",
    "outputId": "760754e2-f172-4595-e5b0-22c5e6a09556"
   },
   "outputs": [],
   "source": [
    "plot_patients(score_sb)"
   ]
  },
  {
   "cell_type": "markdown",
   "metadata": {
    "colab_type": "text",
    "id": "XcRdUmgRPKbv"
   },
   "source": [
    "# Pressure, position, stress-strain plots"
   ]
  },
  {
   "cell_type": "code",
   "execution_count": null,
   "metadata": {
    "colab": {
     "base_uri": "https://localhost:8080/",
     "height": 34
    },
    "colab_type": "code",
    "executionInfo": {
     "elapsed": 13765,
     "status": "ok",
     "timestamp": 1585699435166,
     "user": {
      "displayName": "Amy",
      "photoUrl": "https://lh3.googleusercontent.com/a-/AOh14Gg57z5vAYkrFUPlxK1HTSLah82OJ95jTB4gUwKjBA=s64",
      "userId": "14338322890746261609"
     },
     "user_tz": 240
    },
    "id": "6TuHixpxPKbw",
    "outputId": "10906d33-1cc6-4700-daca-4c6ac6196ffc"
   },
   "outputs": [],
   "source": [
    "example = random(crushes)"
   ]
  },
  {
   "cell_type": "code",
   "execution_count": null,
   "metadata": {
    "colab": {
     "base_uri": "https://localhost:8080/",
     "height": 631
    },
    "colab_type": "code",
    "executionInfo": {
     "elapsed": 14227,
     "status": "ok",
     "timestamp": 1585699435652,
     "user": {
      "displayName": "Amy",
      "photoUrl": "https://lh3.googleusercontent.com/a-/AOh14Gg57z5vAYkrFUPlxK1HTSLah82OJ95jTB4gUwKjBA=s64",
      "userId": "14338322890746261609"
     },
     "user_tz": 240
    },
    "id": "9ptEhUJrPKbz",
    "outputId": "89f806c5-d8ef-42ba-c0bc-ae3a8d5fe8d2"
   },
   "outputs": [],
   "source": [
    "pressure_plot(example, trim=False)"
   ]
  },
  {
   "cell_type": "code",
   "execution_count": null,
   "metadata": {
    "colab": {
     "base_uri": "https://localhost:8080/",
     "height": 631
    },
    "colab_type": "code",
    "executionInfo": {
     "elapsed": 14736,
     "status": "ok",
     "timestamp": 1585699436186,
     "user": {
      "displayName": "Amy",
      "photoUrl": "https://lh3.googleusercontent.com/a-/AOh14Gg57z5vAYkrFUPlxK1HTSLah82OJ95jTB4gUwKjBA=s64",
      "userId": "14338322890746261609"
     },
     "user_tz": 240
    },
    "id": "Hmeup5uKPKb3",
    "outputId": "9d77271b-38da-4efa-8529-6eb091ce11db"
   },
   "outputs": [],
   "source": [
    "position_plot(example, trim=False)"
   ]
  },
  {
   "cell_type": "code",
   "execution_count": null,
   "metadata": {
    "colab": {
     "base_uri": "https://localhost:8080/",
     "height": 631
    },
    "colab_type": "code",
    "executionInfo": {
     "elapsed": 15342,
     "status": "ok",
     "timestamp": 1585699436814,
     "user": {
      "displayName": "Amy",
      "photoUrl": "https://lh3.googleusercontent.com/a-/AOh14Gg57z5vAYkrFUPlxK1HTSLah82OJ95jTB4gUwKjBA=s64",
      "userId": "14338322890746261609"
     },
     "user_tz": 240
    },
    "id": "ebFFXs5KPKb6",
    "outputId": "5d468564-6156-4b19-e4d6-41056b535ad8"
   },
   "outputs": [],
   "source": [
    "stress_plot(example, trim=False)"
   ]
  },
  {
   "cell_type": "code",
   "execution_count": null,
   "metadata": {
    "colab": {},
    "colab_type": "code",
    "id": "pSncyzTVP_dz"
   },
   "outputs": [],
   "source": []
  }
 ],
 "metadata": {
  "colab": {
   "name": "crush_graphs_p2.ipynb",
   "provenance": []
  },
  "kernelspec": {
   "display_name": "Python 3",
   "language": "python",
   "name": "python3"
  },
  "language_info": {
   "codemirror_mode": {
    "name": "ipython",
    "version": 3
   },
   "file_extension": ".py",
   "mimetype": "text/x-python",
   "name": "python",
   "nbconvert_exporter": "python",
   "pygments_lexer": "ipython3"
  }
 },
 "nbformat": 4,
 "nbformat_minor": 1
}
