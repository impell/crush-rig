{
 "cells": [
  {
   "cell_type": "markdown",
   "metadata": {},
   "source": [
    "### Imports"
   ]
  },
  {
   "cell_type": "code",
   "execution_count": null,
   "metadata": {},
   "outputs": [],
   "source": [
    "%config InlineBackend.figure_format = 'retina'\n",
    "%load_ext autoreload\n",
    "%autoreload 2\n",
    "%matplotlib inline"
   ]
  },
  {
   "cell_type": "code",
   "execution_count": null,
   "metadata": {},
   "outputs": [],
   "source": [
    "import pandas as pd\n",
    "import numpy as np\n",
    "import seaborn as sns\n",
    "import matplotlib.pyplot as plt\n",
    "plt.style.use('ggplot')"
   ]
  },
  {
   "cell_type": "markdown",
   "metadata": {},
   "source": [
    "### Data"
   ]
  },
  {
   "cell_type": "code",
   "execution_count": null,
   "metadata": {},
   "outputs": [],
   "source": [
    "from pathlib import Path\n",
    "DATA = Path('~/Data/crush-rig-paper1/histo_scoring_data.csv')"
   ]
  },
  {
   "cell_type": "code",
   "execution_count": null,
   "metadata": {},
   "outputs": [],
   "source": [
    "df = pd.read_csv(DATA)"
   ]
  },
  {
   "cell_type": "code",
   "execution_count": null,
   "metadata": {},
   "outputs": [],
   "source": [
    "df.head()"
   ]
  },
  {
   "cell_type": "code",
   "execution_count": null,
   "metadata": {},
   "outputs": [],
   "source": [
    "simple_names = ['id', 'tissue', 'crush', 'weight', 'pressure', 'thickness']\n",
    "df.columns = simple_names\n",
    "df.head()"
   ]
  },
  {
   "cell_type": "markdown",
   "metadata": {},
   "source": [
    "Change patient identifiers to start at 1, shift all by -1."
   ]
  },
  {
   "cell_type": "code",
   "execution_count": null,
   "metadata": {},
   "outputs": [],
   "source": [
    "for i in range(2, 7):\n",
    "    current_id = f'P{i}'\n",
    "    new_id = f'P{i - 1}'\n",
    "    df.loc[df.id == current_id, 'id'] = new_id"
   ]
  },
  {
   "cell_type": "code",
   "execution_count": null,
   "metadata": {},
   "outputs": [],
   "source": [
    "control = df.loc[df.crush == 'No', :]\n",
    "crush = df.loc[df.crush == 'Yes', :]"
   ]
  },
  {
   "cell_type": "code",
   "execution_count": null,
   "metadata": {},
   "outputs": [],
   "source": [
    "control = control.rename(columns={'thickness': 'control_thickness'}).drop('crush', axis=1)\n",
    "crush = crush.rename(columns={'thickness': 'crush_thickness'}).drop('crush', axis=1)"
   ]
  },
  {
   "cell_type": "code",
   "execution_count": null,
   "metadata": {},
   "outputs": [],
   "source": [
    "control_group = control.groupby(by=['id', 'weight'])\n",
    "crush_group = crush.groupby(by=['id', 'weight'])"
   ]
  },
  {
   "cell_type": "code",
   "execution_count": null,
   "metadata": {},
   "outputs": [],
   "source": [
    "control_mean = control_group.mean().reset_index()\n",
    "crush_mean = crush_group.mean().reset_index()\n",
    "\n",
    "control_mean['control_stdev'] = control_group.std().reset_index().control_thickness\n",
    "crush_mean['crush_stdev'] = crush_group.std().reset_index().crush_thickness"
   ]
  },
  {
   "cell_type": "code",
   "execution_count": null,
   "metadata": {},
   "outputs": [],
   "source": [
    "df = control_mean.merge(crush_mean)\n",
    "df.head()"
   ]
  },
  {
   "cell_type": "code",
   "execution_count": null,
   "metadata": {},
   "outputs": [],
   "source": [
    "df['delta_thickness'] = df.crush_thickness - df.control_thickness\n",
    "df['percent_delta'] = 100 * df.delta_thickness / df.control_thickness\n",
    "df.head()"
   ]
  },
  {
   "cell_type": "markdown",
   "metadata": {},
   "source": [
    "## Stats"
   ]
  },
  {
   "cell_type": "code",
   "execution_count": null,
   "metadata": {},
   "outputs": [],
   "source": [
    "from scipy.stats import ttest_ind_from_stats"
   ]
  },
  {
   "cell_type": "code",
   "execution_count": null,
   "metadata": {},
   "outputs": [],
   "source": [
    "n = 5\n",
    "res = ttest_ind_from_stats(df.control_thickness, df.control_stdev, n,\n",
    "                           df.crush_thickness, df.crush_stdev, n,\n",
    "                           equal_var=False)"
   ]
  },
  {
   "cell_type": "code",
   "execution_count": null,
   "metadata": {},
   "outputs": [],
   "source": [
    "df['two_tailed_pvalue'] = res.pvalue\n",
    "df['one_tailed_pvalue'] = df.two_tailed_pvalue / 2\n",
    "df.head()"
   ]
  },
  {
   "cell_type": "markdown",
   "metadata": {},
   "source": [
    "Note that a one-tailed p-value is more appropriate for this problem because it a compression will only reduce the serosa thickness, not increase it."
   ]
  },
  {
   "cell_type": "code",
   "execution_count": null,
   "metadata": {},
   "outputs": [],
   "source": [
    "df['load_rounded'] = df.pressure.values.round(-1).astype(np.int)\n",
    "df['percent_delta_abs'] = df.percent_delta.abs()\n",
    "df.head()"
   ]
  },
  {
   "cell_type": "markdown",
   "metadata": {},
   "source": [
    "## Average deformation per weight"
   ]
  },
  {
   "cell_type": "code",
   "execution_count": null,
   "metadata": {},
   "outputs": [],
   "source": [
    "load_df = df.groupby(by=['pressure']).mean().reset_index()\n",
    "load_df"
   ]
  },
  {
   "cell_type": "code",
   "execution_count": null,
   "metadata": {},
   "outputs": [],
   "source": [
    "plt.figure(figsize=(12, 8))\n",
    "plt.bar(x=load_df.load_rounded, height=load_df.percent_delta_abs, width=50)\n",
    "plt.xticks(load_df.load_rounded.values)\n",
    "plt.ylim([0, 65])\n",
    "yticks = plt.gca().get_yticks()\n",
    "plt.gca().set_yticklabels(['{:.0f}%'.format(tick) for tick in yticks])\n",
    "plt.xlabel('Pressure Load (kPa)')\n",
    "plt.ylabel('Tissue Deformation')"
   ]
  },
  {
   "cell_type": "markdown",
   "metadata": {},
   "source": [
    "## Box plot of tissue deformation"
   ]
  },
  {
   "cell_type": "code",
   "execution_count": null,
   "metadata": {},
   "outputs": [],
   "source": [
    "df.boxplot(by='load_rounded', column='percent_delta_abs', figsize=(12, 8), whis='range')\n",
    "plt.ylim([-5, 75])\n",
    "yticks = plt.gca().get_yticks()\n",
    "plt.gca().set_yticklabels(['{:.0f}%'.format(tick) for tick in yticks])\n",
    "plt.xlabel('Pressure Load (kPa)')\n",
    "plt.ylabel('Tissue Deformation')\n",
    "plt.title('')\n",
    "plt.suptitle('')"
   ]
  },
  {
   "cell_type": "markdown",
   "metadata": {},
   "source": [
    "## Patient deformation per weight"
   ]
  },
  {
   "cell_type": "code",
   "execution_count": null,
   "metadata": {},
   "outputs": [],
   "source": [
    "n_patients = 5\n",
    "c = 'mediumslateblue'\n",
    "c_special = 'red'\n",
    "\n",
    "fig, axes = plt.subplots(nrows=n_patients, ncols=1, sharex=True, figsize=(12, 10))\n",
    "ids = df.id.unique()\n",
    "for i, ax in enumerate(axes):\n",
    "    plt.sca(ax)\n",
    "    specific_df = df[df.id == ids[i]]\n",
    "    \n",
    "    # Line plot\n",
    "    x = specific_df.load_rounded\n",
    "    y = specific_df.percent_delta_abs\n",
    "    plt.plot(x, y, c=c)\n",
    "    plt.xticks(x.values)\n",
    "    plt.yticks([0, 25, 50, 75])\n",
    "    plt.ylim([-5, 80])\n",
    "    yticks = ax.get_yticks()\n",
    "    ax.set_yticklabels(['{:.0f}%'.format(tick) for tick in yticks])\n",
    "    plt.ylabel(ids[i])\n",
    "    if i == 0:\n",
    "        plt.title('Patient Tissue Deformation')\n",
    "    if i == n_patients - 1:\n",
    "        plt.xlabel('Pressure Load (kPa)')\n",
    "    \n",
    "    # Marks for insignificant delta\n",
    "    x = specific_df.loc[specific_df.one_tailed_pvalue >= 0.05,\n",
    "                        'load_rounded']\n",
    "    y = specific_df.loc[specific_df.one_tailed_pvalue >= 0.05,\n",
    "                        'percent_delta_abs']\n",
    "    plt.scatter(x, y, s=30, marker='o', c=c)\n",
    "    \n",
    "    # Marks for significant delta\n",
    "    x = specific_df.loc[specific_df.one_tailed_pvalue < 0.05,\n",
    "                        'load_rounded']\n",
    "    y = specific_df.loc[specific_df.one_tailed_pvalue < 0.05,\n",
    "                        'percent_delta_abs']\n",
    "    plt.scatter(x, y, s=90, marker=\"x\", c=c_special, zorder=100)"
   ]
  },
  {
   "cell_type": "markdown",
   "metadata": {},
   "source": [
    "## Patient average serosa thickness"
   ]
  },
  {
   "cell_type": "code",
   "execution_count": null,
   "metadata": {},
   "outputs": [],
   "source": [
    "patient_df = df.groupby(by=['id']).mean().reset_index()\n",
    "patient_df"
   ]
  },
  {
   "cell_type": "code",
   "execution_count": null,
   "metadata": {},
   "outputs": [],
   "source": [
    "plt.figure(figsize=(12, 8))\n",
    "plt.bar(x=patient_df.id, height=patient_df.control_thickness)\n",
    "plt.ylim([0, 800])\n",
    "plt.xlabel('Patient')\n",
    "plt.ylabel('Average Control Serosa Thickness (\\u03BCm)')"
   ]
  },
  {
   "cell_type": "code",
   "execution_count": null,
   "metadata": {},
   "outputs": [],
   "source": []
  }
 ],
 "metadata": {
  "kernelspec": {
   "display_name": "Python 3",
   "language": "python",
   "name": "python3"
  },
  "language_info": {
   "codemirror_mode": {
    "name": "ipython",
    "version": 3
   },
   "file_extension": ".py",
   "mimetype": "text/x-python",
   "name": "python",
   "nbconvert_exporter": "python",
   "pygments_lexer": "ipython3"
  }
 },
 "nbformat": 4,
 "nbformat_minor": 2
}
